{
 "cells": [
  {
   "cell_type": "code",
   "execution_count": 1,
   "id": "8a9a9e60",
   "metadata": {},
   "outputs": [
    {
     "name": "stderr",
     "output_type": "stream",
     "text": [
      "21/10/12 19:53:17 WARN NativeCodeLoader: Unable to load native-hadoop library for your platform... using builtin-java classes where applicable\n",
      "Using Spark's default log4j profile: org/apache/spark/log4j-defaults.properties\n",
      "Setting default log level to \"WARN\".\n",
      "To adjust logging level use sc.setLogLevel(newLevel). For SparkR, use setLogLevel(newLevel).\n",
      "21/10/12 19:53:23 WARN Utils: Service 'SparkUI' could not bind on port 4040. Attempting port 4041.\n",
      "21/10/12 19:53:23 WARN Utils: Service 'SparkUI' could not bind on port 4041. Attempting port 4042.\n",
      "                                                                                \r"
     ]
    },
    {
     "name": "stdout",
     "output_type": "stream",
     "text": [
      "+--------------------+\n",
      "|                 _c1|\n",
      "+--------------------+\n",
      "|According to Gran...|\n",
      "|Technopolis plans...|\n",
      "|The international...|\n",
      "|With the new prod...|\n",
      "|According to the ...|\n",
      "+--------------------+\n",
      "only showing top 5 rows\n",
      "\n"
     ]
    }
   ],
   "source": [
    "from pyspark.sql import SparkSession\n",
    "\n",
    "\n",
    "#创建SparkSession。\n",
    "spark = SparkSession.builder.getOrCreate()\n",
    "\n",
    "#读取文件并存储到DataFrame中。\n",
    "df = spark.read.csv('../Datasets/news/news_sentiment.csv', header=False)\n",
    "\n",
    "#选取名称为_c1的列，并展示该列的前5行。\n",
    "df.select(df._c1).show(5)"
   ]
  },
  {
   "cell_type": "code",
   "execution_count": 2,
   "id": "054ac80e",
   "metadata": {},
   "outputs": [
    {
     "name": "stdout",
     "output_type": "stream",
     "text": [
      "+--------------------+\n",
      "|               words|\n",
      "+--------------------+\n",
      "|[According, to, G...|\n",
      "|[Technopolis, pla...|\n",
      "|[The, internation...|\n",
      "|[With, the, new, ...|\n",
      "|[According, to, t...|\n",
      "+--------------------+\n",
      "only showing top 5 rows\n",
      "\n"
     ]
    }
   ],
   "source": [
    "import pyspark.sql.functions as func\n",
    "\n",
    "\n",
    "#选取名称为_c1的列，将该列的数据文本进行分词，并修改该列的名称为words。\n",
    "df = df.select(func.split(df._c1, ' ').alias('words'))\n",
    "\n",
    "df.show(5)"
   ]
  },
  {
   "cell_type": "code",
   "execution_count": 3,
   "id": "23a7ec9d",
   "metadata": {},
   "outputs": [
    {
     "name": "stderr",
     "output_type": "stream",
     "text": [
      "21/10/12 19:53:37 WARN BLAS: Failed to load implementation from: com.github.fommil.netlib.NativeSystemBLAS\n",
      "21/10/12 19:53:37 WARN BLAS: Failed to load implementation from: com.github.fommil.netlib.NativeRefBLAS\n",
      "                                                                                \r"
     ]
    },
    {
     "name": "stdout",
     "output_type": "stream",
     "text": [
      "+--------------------+--------------------+\n",
      "|               words|            features|\n",
      "+--------------------+--------------------+\n",
      "|[According, to, G...|[-0.0177427710080...|\n",
      "|[Technopolis, pla...|[-0.0224827738899...|\n",
      "|[The, internation...|[-0.0251569747043...|\n",
      "|[With, the, new, ...|[-0.1424257911628...|\n",
      "|[According, to, t...|[0.03129597339869...|\n",
      "+--------------------+--------------------+\n",
      "only showing top 5 rows\n",
      "\n"
     ]
    }
   ],
   "source": [
    "from pyspark.ml.feature import Word2Vec\n",
    "\n",
    "\n",
    "#初始化词向量特征的抽取模型。\n",
    "word2Vec = Word2Vec(vectorSize=3, minCount=0, inputCol=\"words\", outputCol=\"features\")\n",
    "\n",
    "model = word2Vec.fit(df)\n",
    "\n",
    "word2vec_df = model.transform(df)\n",
    "\n",
    "word2vec_df.show(5)"
   ]
  },
  {
   "cell_type": "code",
   "execution_count": 4,
   "id": "ef49b4fc",
   "metadata": {},
   "outputs": [
    {
     "name": "stdout",
     "output_type": "stream",
     "text": [
      "+--------------------+--------------------+--------------------+\n",
      "|               words|            features|      scaledFeatures|\n",
      "+--------------------+--------------------+--------------------+\n",
      "|[According, to, G...|[-0.0177427710080...|[-0.1282418935499...|\n",
      "|[Technopolis, pla...|[-0.0224827738899...|[-0.1625018715843...|\n",
      "|[The, internation...|[-0.0251569747043...|[-0.1818305647191...|\n",
      "|[With, the, new, ...|[-0.1424257911628...|[-1.0294306983274...|\n",
      "|[According, to, t...|[0.03129597339869...|[0.22620225934933...|\n",
      "+--------------------+--------------------+--------------------+\n",
      "only showing top 5 rows\n",
      "\n"
     ]
    }
   ],
   "source": [
    "from pyspark.ml.feature import StandardScaler\n",
    "\n",
    "\n",
    "#初始化特征标准化模型。\n",
    "scaler = StandardScaler(inputCol=\"features\", outputCol=\"scaledFeatures\",\n",
    "                        withStd=True, withMean=False)\n",
    "\n",
    "scalerModel = scaler.fit(word2vec_df)\n",
    "\n",
    "scaled_df = scalerModel.transform(word2vec_df)\n",
    "\n",
    "scaled_df.show(5)"
   ]
  }
 ],
 "metadata": {
  "kernelspec": {
   "display_name": "Python 3 (ipykernel)",
   "language": "python",
   "name": "python3"
  },
  "language_info": {
   "codemirror_mode": {
    "name": "ipython",
    "version": 3
   },
   "file_extension": ".py",
   "mimetype": "text/x-python",
   "name": "python",
   "nbconvert_exporter": "python",
   "pygments_lexer": "ipython3",
   "version": "3.8.11"
  }
 },
 "nbformat": 4,
 "nbformat_minor": 5
}
