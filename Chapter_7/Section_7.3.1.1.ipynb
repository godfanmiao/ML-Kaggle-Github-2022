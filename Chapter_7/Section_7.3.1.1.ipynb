{
 "cells": [
  {
   "cell_type": "code",
   "execution_count": 1,
   "id": "d2d1bd76",
   "metadata": {},
   "outputs": [
    {
     "name": "stderr",
     "output_type": "stream",
     "text": [
      "21/10/12 19:32:05 WARN NativeCodeLoader: Unable to load native-hadoop library for your platform... using builtin-java classes where applicable\n",
      "Using Spark's default log4j profile: org/apache/spark/log4j-defaults.properties\n",
      "Setting default log level to \"WARN\".\n",
      "To adjust logging level use sc.setLogLevel(newLevel). For SparkR, use setLogLevel(newLevel).\n",
      "21/10/12 19:32:12 WARN Utils: Service 'SparkUI' could not bind on port 4040. Attempting port 4041.\n",
      "21/10/12 19:32:12 WARN Utils: Service 'SparkUI' could not bind on port 4041. Attempting port 4042.\n",
      "21/10/12 19:32:12 WARN Utils: Service 'SparkUI' could not bind on port 4042. Attempting port 4043.\n",
      "                                                                                \r"
     ]
    },
    {
     "name": "stdout",
     "output_type": "stream",
     "text": [
      "+--------------------+\n",
      "|                 _c1|\n",
      "+--------------------+\n",
      "|According to Gran...|\n",
      "|Technopolis plans...|\n",
      "|The international...|\n",
      "|With the new prod...|\n",
      "|According to the ...|\n",
      "+--------------------+\n",
      "only showing top 5 rows\n",
      "\n"
     ]
    }
   ],
   "source": [
    "from pyspark.sql import SparkSession\n",
    "\n",
    "\n",
    "#创建SparkSession。\n",
    "spark = SparkSession.builder.getOrCreate()\n",
    "\n",
    "#读取文件并存储到DataFrame中。\n",
    "df = spark.read.csv('../Datasets/news/news_sentiment.csv', header=False)\n",
    "\n",
    "#选取名称为_c1的列，并展示该列的前5行。\n",
    "df.select(df._c1).show(5)"
   ]
  },
  {
   "cell_type": "code",
   "execution_count": 2,
   "id": "cdb9d1c5",
   "metadata": {},
   "outputs": [
    {
     "name": "stdout",
     "output_type": "stream",
     "text": [
      "+--------------------+\n",
      "|               words|\n",
      "+--------------------+\n",
      "|[According, to, G...|\n",
      "|[Technopolis, pla...|\n",
      "|[The, internation...|\n",
      "|[With, the, new, ...|\n",
      "|[According, to, t...|\n",
      "+--------------------+\n",
      "only showing top 5 rows\n",
      "\n"
     ]
    }
   ],
   "source": [
    "import pyspark.sql.functions as func\n",
    "\n",
    "\n",
    "#选取名称为_c1的列，将该列的数据文本进行分词，并修改该列的名称为words。\n",
    "df = df.select(func.split(df._c1, ' ').alias('words'))\n",
    "\n",
    "df.show(5)"
   ]
  },
  {
   "cell_type": "code",
   "execution_count": 3,
   "id": "a91dbe35",
   "metadata": {},
   "outputs": [
    {
     "name": "stderr",
     "output_type": "stream",
     "text": [
      "                                                                                \r"
     ]
    },
    {
     "name": "stdout",
     "output_type": "stream",
     "text": [
      "Row(words=['According', 'to', 'Gran', ',', 'the', 'company', 'has', 'no', 'plans', 'to', 'move', 'all', 'production', 'to', 'Russia', ',', 'although', 'that', 'is', 'where', 'the', 'company', 'is', 'growing', '.'], word_counts=SparseVector(100, {0: 1.0, 1: 2.0, 2: 2.0, 6: 3.0, 11: 2.0, 14: 2.0, 18: 1.0, 31: 1.0, 85: 1.0}))\n",
      "Row(words=['Technopolis', 'plans', 'to', 'develop', 'in', 'stages', 'an', 'area', 'of', 'no', 'less', 'than', '100,000', 'square', 'meters', 'in', 'order', 'to', 'host', 'companies', 'working', 'in', 'computer', 'technologies', 'and', 'telecommunications', ',', 'the', 'statement', 'said', '.'], word_counts=SparseVector(100, {0: 1.0, 1: 1.0, 2: 1.0, 3: 1.0, 4: 3.0, 5: 1.0, 6: 2.0, 21: 1.0, 39: 1.0, 90: 1.0, 96: 1.0}))\n",
      "Row(words=['The', 'international', 'electronic', 'industry', 'company', 'Elcoteq', 'has', 'laid', 'off', 'tens', 'of', 'employees', 'from', 'its', 'Tallinn', 'facility', ';', 'contrary', 'to', 'earlier', 'layoffs', 'the', 'company', 'contracted', 'the', 'ranks', 'of', 'its', 'office', 'workers', ',', 'the', 'daily', 'Postimees', 'reported', '.'], word_counts=SparseVector(100, {0: 1.0, 1: 3.0, 2: 1.0, 3: 2.0, 6: 1.0, 8: 1.0, 14: 2.0, 15: 1.0, 17: 2.0, 18: 1.0}))\n"
     ]
    }
   ],
   "source": [
    "from pyspark.ml.feature import CountVectorizer\n",
    "\n",
    "\n",
    "#初始化文本词频特征的抽取模型。\n",
    "cv = CountVectorizer(inputCol=\"words\", outputCol=\"word_counts\", vocabSize=100)\n",
    "\n",
    "model = cv.fit(df)\n",
    "\n",
    "result_df = model.transform(df)\n",
    "\n",
    "#将分布式数据集中存储到内存变量results中。\n",
    "results = result_df.collect()\n",
    "\n",
    "#展示前3行文本的词频特征。\n",
    "for items in results[:3]:\n",
    "    print (items)"
   ]
  }
 ],
 "metadata": {
  "kernelspec": {
   "display_name": "Python 3 (ipykernel)",
   "language": "python",
   "name": "python3"
  },
  "language_info": {
   "codemirror_mode": {
    "name": "ipython",
    "version": 3
   },
   "file_extension": ".py",
   "mimetype": "text/x-python",
   "name": "python",
   "nbconvert_exporter": "python",
   "pygments_lexer": "ipython3",
   "version": "3.8.11"
  }
 },
 "nbformat": 4,
 "nbformat_minor": 5
}
