{
 "cells": [
  {
   "cell_type": "code",
   "execution_count": 1,
   "id": "8a9a9e60",
   "metadata": {},
   "outputs": [
    {
     "name": "stderr",
     "output_type": "stream",
     "text": [
      "21/10/12 19:55:52 WARN NativeCodeLoader: Unable to load native-hadoop library for your platform... using builtin-java classes where applicable\n",
      "Using Spark's default log4j profile: org/apache/spark/log4j-defaults.properties\n",
      "Setting default log level to \"WARN\".\n",
      "To adjust logging level use sc.setLogLevel(newLevel). For SparkR, use setLogLevel(newLevel).\n",
      "21/10/12 19:55:59 WARN Utils: Service 'SparkUI' could not bind on port 4040. Attempting port 4041.\n",
      "                                                                                \r"
     ]
    },
    {
     "name": "stdout",
     "output_type": "stream",
     "text": [
      "+--------+\n",
      "|     _c0|\n",
      "+--------+\n",
      "| neutral|\n",
      "| neutral|\n",
      "|negative|\n",
      "|positive|\n",
      "|positive|\n",
      "+--------+\n",
      "only showing top 5 rows\n",
      "\n"
     ]
    }
   ],
   "source": [
    "from pyspark.sql import SparkSession\n",
    "\n",
    "\n",
    "#创建SparkSession。\n",
    "spark = SparkSession.builder.getOrCreate()\n",
    "\n",
    "#读取文件并存储到DataFrame中。\n",
    "df = spark.read.csv('../Datasets/news/news_sentiment.csv', header=False)\n",
    "\n",
    "#选取名称为_c0的列，并展示该列的前5行。\n",
    "df = df.select(df._c0)\n",
    "\n",
    "df.show(5)"
   ]
  },
  {
   "cell_type": "code",
   "execution_count": 2,
   "id": "23a7ec9d",
   "metadata": {},
   "outputs": [
    {
     "name": "stderr",
     "output_type": "stream",
     "text": [
      "                                                                                \r"
     ]
    },
    {
     "name": "stdout",
     "output_type": "stream",
     "text": [
      "+--------+---------+\n",
      "|     _c0|label_idx|\n",
      "+--------+---------+\n",
      "| neutral|      0.0|\n",
      "| neutral|      0.0|\n",
      "|negative|      2.0|\n",
      "|positive|      1.0|\n",
      "|positive|      1.0|\n",
      "+--------+---------+\n",
      "only showing top 5 rows\n",
      "\n"
     ]
    }
   ],
   "source": [
    "from pyspark.ml.feature import StringIndexer\n",
    "\n",
    "\n",
    "#初始化类别到数字编码的特征转换模型。\n",
    "si = StringIndexer(inputCol='_c0', outputCol='label_idx')\n",
    "\n",
    "si_model = si.fit(df)\n",
    "\n",
    "df = si_model.transform(df)\n",
    "\n",
    "df.show(5)"
   ]
  },
  {
   "cell_type": "code",
   "execution_count": 3,
   "id": "c5725595",
   "metadata": {},
   "outputs": [
    {
     "name": "stdout",
     "output_type": "stream",
     "text": [
      "+--------+---------+-------------+\n",
      "|     _c0|label_idx|       labels|\n",
      "+--------+---------+-------------+\n",
      "| neutral|      0.0|(2,[0],[1.0])|\n",
      "| neutral|      0.0|(2,[0],[1.0])|\n",
      "|negative|      2.0|    (2,[],[])|\n",
      "|positive|      1.0|(2,[1],[1.0])|\n",
      "|positive|      1.0|(2,[1],[1.0])|\n",
      "+--------+---------+-------------+\n",
      "only showing top 5 rows\n",
      "\n"
     ]
    }
   ],
   "source": [
    "from pyspark.ml.feature import OneHotEncoder\n",
    "\n",
    "\n",
    "#初始化数字编码到独热向量表示的特征转换模型。\n",
    "ohe = OneHotEncoder(inputCol=\"label_idx\", outputCol=\"labels\")\n",
    "\n",
    "ohe_model = ohe.fit(df)\n",
    "\n",
    "result = ohe_model.transform(df)\n",
    "\n",
    "result.show(5)"
   ]
  }
 ],
 "metadata": {
  "kernelspec": {
   "display_name": "Python 3 (ipykernel)",
   "language": "python",
   "name": "python3"
  },
  "language_info": {
   "codemirror_mode": {
    "name": "ipython",
    "version": 3
   },
   "file_extension": ".py",
   "mimetype": "text/x-python",
   "name": "python",
   "nbconvert_exporter": "python",
   "pygments_lexer": "ipython3",
   "version": "3.8.11"
  }
 },
 "nbformat": 4,
 "nbformat_minor": 5
}
