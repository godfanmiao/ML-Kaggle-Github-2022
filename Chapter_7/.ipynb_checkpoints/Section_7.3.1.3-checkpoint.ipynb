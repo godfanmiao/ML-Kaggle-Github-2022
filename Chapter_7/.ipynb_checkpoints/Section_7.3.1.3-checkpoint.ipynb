{
 "cells": [
  {
   "cell_type": "code",
   "execution_count": 1,
   "id": "8a9a9e60",
   "metadata": {},
   "outputs": [
    {
     "name": "stderr",
     "output_type": "stream",
     "text": [
      "21/10/12 20:12:40 WARN NativeCodeLoader: Unable to load native-hadoop library for your platform... using builtin-java classes where applicable\n",
      "Using Spark's default log4j profile: org/apache/spark/log4j-defaults.properties\n",
      "Setting default log level to \"WARN\".\n",
      "To adjust logging level use sc.setLogLevel(newLevel). For SparkR, use setLogLevel(newLevel).\n",
      "21/10/12 20:12:47 WARN Utils: Service 'SparkUI' could not bind on port 4040. Attempting port 4041.\n",
      "                                                                                \r"
     ]
    },
    {
     "name": "stdout",
     "output_type": "stream",
     "text": [
      "+--------------------+\n",
      "|                 _c1|\n",
      "+--------------------+\n",
      "|According to Gran...|\n",
      "|Technopolis plans...|\n",
      "|The international...|\n",
      "|With the new prod...|\n",
      "|According to the ...|\n",
      "+--------------------+\n",
      "only showing top 5 rows\n",
      "\n"
     ]
    }
   ],
   "source": [
    "from pyspark.sql import SparkSession\n",
    "\n",
    "\n",
    "#创建SparkSession。\n",
    "spark = SparkSession.builder.getOrCreate()\n",
    "\n",
    "#读取文件并存储到DataFrame中。\n",
    "df = spark.read.csv('../Datasets/news/news_sentiment.csv', header=False)\n",
    "\n",
    "#选取名称为_c1的列，并展示该列的前5行。\n",
    "df.select(df._c1).show(5)"
   ]
  },
  {
   "cell_type": "code",
   "execution_count": 2,
   "id": "054ac80e",
   "metadata": {},
   "outputs": [
    {
     "name": "stdout",
     "output_type": "stream",
     "text": [
      "+--------------------+\n",
      "|               words|\n",
      "+--------------------+\n",
      "|[According, to, G...|\n",
      "|[Technopolis, pla...|\n",
      "|[The, internation...|\n",
      "|[With, the, new, ...|\n",
      "|[According, to, t...|\n",
      "+--------------------+\n",
      "only showing top 5 rows\n",
      "\n"
     ]
    }
   ],
   "source": [
    "import pyspark.sql.functions as func\n",
    "\n",
    "\n",
    "#选取名称为_c1的列，将该列的数据文本进行分词，并修改该列的名称为words。\n",
    "df = df.select(func.split(df._c1, ' ').alias('words'))\n",
    "\n",
    "df.show(5)"
   ]
  },
  {
   "cell_type": "code",
   "execution_count": 3,
   "id": "23a7ec9d",
   "metadata": {
    "scrolled": true
   },
   "outputs": [
    {
     "name": "stderr",
     "output_type": "stream",
     "text": [
      "21/10/12 20:13:00 WARN BLAS: Failed to load implementation from: com.github.fommil.netlib.NativeSystemBLAS\n",
      "21/10/12 20:13:00 WARN BLAS: Failed to load implementation from: com.github.fommil.netlib.NativeRefBLAS\n",
      "                                                                                \r"
     ]
    },
    {
     "name": "stdout",
     "output_type": "stream",
     "text": [
      "[-0.07501442807260901,0.07553011640906335]\n",
      "[-0.18367651878901187,0.050383288112859574]\n",
      "[-0.13576698649881613,0.08573484850219554]\n",
      "[-0.05365251659443884,0.052940222519365226]\n",
      "[-0.3452067395740348,-0.13657354725888227]\n"
     ]
    }
   ],
   "source": [
    "from pyspark.ml.feature import Word2Vec\n",
    "\n",
    "\n",
    "#初始化词向量特征的抽取模型。\n",
    "word2Vec = Word2Vec(vectorSize=2, minCount=0, inputCol=\"words\", outputCol=\"embedding\")\n",
    "\n",
    "model = word2Vec.fit(df)\n",
    "\n",
    "result = model.transform(df)\n",
    "\n",
    "#展示前5行文本的词向量特征。\n",
    "for item in result.collect()[:5]:\n",
    "    print(item['embedding'])"
   ]
  },
  {
   "cell_type": "code",
   "execution_count": null,
   "id": "dde9ae82",
   "metadata": {},
   "outputs": [],
   "source": []
  }
 ],
 "metadata": {
  "kernelspec": {
   "display_name": "Python 3 (ipykernel)",
   "language": "python",
   "name": "python3"
  },
  "language_info": {
   "codemirror_mode": {
    "name": "ipython",
    "version": 3
   },
   "file_extension": ".py",
   "mimetype": "text/x-python",
   "name": "python",
   "nbconvert_exporter": "python",
   "pygments_lexer": "ipython3",
   "version": "3.8.11"
  }
 },
 "nbformat": 4,
 "nbformat_minor": 5
}
