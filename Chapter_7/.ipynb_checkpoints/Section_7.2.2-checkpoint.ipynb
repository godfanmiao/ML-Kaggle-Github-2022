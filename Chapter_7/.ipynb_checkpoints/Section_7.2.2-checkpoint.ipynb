{
 "cells": [
  {
   "cell_type": "code",
   "execution_count": 1,
   "id": "336afa6d",
   "metadata": {},
   "outputs": [
    {
     "name": "stderr",
     "output_type": "stream",
     "text": [
      "21/10/11 14:50:17 WARN NativeCodeLoader: Unable to load native-hadoop library for your platform... using builtin-java classes where applicable\n",
      "Using Spark's default log4j profile: org/apache/spark/log4j-defaults.properties\n",
      "Setting default log level to \"WARN\".\n",
      "To adjust logging level use sc.setLogLevel(newLevel). For SparkR, use setLogLevel(newLevel).\n"
     ]
    }
   ],
   "source": [
    "from pyspark.sql import SparkSession\n",
    "\n",
    "\n",
    "#创建SparkSession。\n",
    "spark = SparkSession.builder.getOrCreate()"
   ]
  },
  {
   "cell_type": "code",
   "execution_count": 2,
   "id": "6729afd6",
   "metadata": {
    "scrolled": true
   },
   "outputs": [
    {
     "name": "stderr",
     "output_type": "stream",
     "text": [
      "                                                                                \r"
     ]
    },
    {
     "name": "stdout",
     "output_type": "stream",
     "text": [
      "+--------+--------------------+\n",
      "|     _c0|                 _c1|\n",
      "+--------+--------------------+\n",
      "| neutral|According to Gran...|\n",
      "| neutral|Technopolis plans...|\n",
      "|negative|The international...|\n",
      "|positive|With the new prod...|\n",
      "|positive|According to the ...|\n",
      "+--------+--------------------+\n",
      "only showing top 5 rows\n",
      "\n"
     ]
    }
   ],
   "source": [
    "#读取文件并存储到DataFrame中。\n",
    "df = spark.read.csv('../Datasets/news/news_sentiment.csv', header=False)\n",
    "\n",
    "#显示文件前5行。\n",
    "df.show(5)"
   ]
  },
  {
   "cell_type": "code",
   "execution_count": 3,
   "id": "9ff5c58b",
   "metadata": {},
   "outputs": [
    {
     "name": "stdout",
     "output_type": "stream",
     "text": [
      "+--------------------+\n",
      "|                 _c1|\n",
      "+--------------------+\n",
      "|According to Gran...|\n",
      "|Technopolis plans...|\n",
      "|The international...|\n",
      "|With the new prod...|\n",
      "|According to the ...|\n",
      "|FINANCING OF ASPO...|\n",
      "|For the last quar...|\n",
      "|In the third quar...|\n",
      "|Operating profit ...|\n",
      "|Operating profit ...|\n",
      "+--------------------+\n",
      "only showing top 10 rows\n",
      "\n"
     ]
    }
   ],
   "source": [
    "#选择某一列，并展示该列的前10行。\n",
    "df.select('_c1').show(10)"
   ]
  },
  {
   "cell_type": "code",
   "execution_count": 4,
   "id": "7fb0cad4",
   "metadata": {},
   "outputs": [
    {
     "name": "stderr",
     "output_type": "stream",
     "text": [
      "                                                                                \r"
     ]
    },
    {
     "name": "stdout",
     "output_type": "stream",
     "text": [
      "+--------+-----+\n",
      "|     _c0|count|\n",
      "+--------+-----+\n",
      "|positive| 1363|\n",
      "| neutral| 2879|\n",
      "|negative|  604|\n",
      "+--------+-----+\n",
      "\n"
     ]
    }
   ],
   "source": [
    "#统计某一列的数据分布。\n",
    "df.groupBy('_c0').count().show()"
   ]
  }
 ],
 "metadata": {
  "kernelspec": {
   "display_name": "Python 3 (ipykernel)",
   "language": "python",
   "name": "python3"
  },
  "language_info": {
   "codemirror_mode": {
    "name": "ipython",
    "version": 3
   },
   "file_extension": ".py",
   "mimetype": "text/x-python",
   "name": "python",
   "nbconvert_exporter": "python",
   "pygments_lexer": "ipython3",
   "version": "3.8.11"
  }
 },
 "nbformat": 4,
 "nbformat_minor": 5
}
