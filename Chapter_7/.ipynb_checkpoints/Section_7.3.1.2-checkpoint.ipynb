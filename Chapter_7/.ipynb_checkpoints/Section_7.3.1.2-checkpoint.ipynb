{
 "cells": [
  {
   "cell_type": "code",
   "execution_count": 1,
   "id": "8a9a9e60",
   "metadata": {},
   "outputs": [
    {
     "name": "stderr",
     "output_type": "stream",
     "text": [
      "21/10/12 19:31:41 WARN NativeCodeLoader: Unable to load native-hadoop library for your platform... using builtin-java classes where applicable\n",
      "Using Spark's default log4j profile: org/apache/spark/log4j-defaults.properties\n",
      "Setting default log level to \"WARN\".\n",
      "To adjust logging level use sc.setLogLevel(newLevel). For SparkR, use setLogLevel(newLevel).\n",
      "                                                                                \r"
     ]
    },
    {
     "name": "stdout",
     "output_type": "stream",
     "text": [
      "+--------+--------------------+\n",
      "|  labels|               texts|\n",
      "+--------+--------------------+\n",
      "| neutral|According to Gran...|\n",
      "| neutral|Technopolis plans...|\n",
      "|negative|The international...|\n",
      "|positive|With the new prod...|\n",
      "|positive|According to the ...|\n",
      "+--------+--------------------+\n",
      "only showing top 5 rows\n",
      "\n"
     ]
    }
   ],
   "source": [
    "from pyspark.sql import SparkSession\n",
    "\n",
    "\n",
    "#创建SparkSession。\n",
    "spark = SparkSession.builder.getOrCreate()\n",
    "\n",
    "#读取文件并存储到DataFrame中。\n",
    "df = spark.read.csv('../Datasets/news/news_sentiment.csv', header=False)\n",
    "\n",
    "#选取名称为_c1的列，将该列的数据文本进行分词，并修改该列的名称为words。\n",
    "df = df.select(df._c0.alias('labels'), df._c1.alias('texts'))\n",
    "\n",
    "df.show(5)"
   ]
  },
  {
   "cell_type": "code",
   "execution_count": 2,
   "id": "23a7ec9d",
   "metadata": {},
   "outputs": [
    {
     "name": "stderr",
     "output_type": "stream",
     "text": [
      "                                                                                \r"
     ]
    },
    {
     "name": "stdout",
     "output_type": "stream",
     "text": [
      "Row(texts='According to Gran , the company has no plans to move all production to Russia , although that is where the company is growing .', tf_features=SparseVector(100, {0: 2.0, 1: 1.0, 2: 2.0, 6: 3.0, 11: 2.0, 13: 2.0, 17: 1.0, 32: 1.0, 83: 1.0, 88: 1.0}), tfidf_features=SparseVector(100, {0: 0.6811, 1: 0.0137, 2: 1.248, 6: 2.6302, 11: 3.4011, 13: 3.6055, 17: 2.1564, 32: 2.4822, 83: 3.6903, 88: 3.6821}))\n",
      "Row(texts='Technopolis plans to develop in stages an area of no less than 100,000 square meters in order to host companies working in computer technologies and telecommunications , the statement said .', tf_features=SparseVector(100, {0: 1.0, 1: 1.0, 2: 1.0, 3: 1.0, 4: 3.0, 5: 1.0, 6: 2.0, 20: 1.0, 38: 1.0, 91: 1.0}), tfidf_features=SparseVector(100, {0: 0.3406, 1: 0.0137, 2: 0.624, 3: 0.7476, 4: 2.3765, 5: 0.9008, 6: 1.7535, 20: 2.1872, 38: 2.7335, 91: 3.6986}))\n",
      "Row(texts='The international electronic industry company Elcoteq has laid off tens of employees from its Tallinn facility ; contrary to earlier layoffs the company contracted the ranks of its office workers , the daily Postimees reported .', tf_features=SparseVector(100, {0: 4.0, 1: 1.0, 2: 1.0, 3: 2.0, 6: 1.0, 13: 2.0, 14: 1.0, 16: 2.0, 17: 1.0}), tfidf_features=SparseVector(100, {0: 1.3623, 1: 0.0137, 2: 0.624, 3: 1.4953, 6: 0.8767, 13: 3.6055, 14: 1.9166, 16: 4.229, 17: 2.1564}))\n"
     ]
    }
   ],
   "source": [
    "from pyspark.ml.feature import CountVectorizer, IDF, Tokenizer\n",
    "\n",
    "\n",
    "#将文本中的句子分割为词汇。\n",
    "tokenizer = Tokenizer(inputCol='texts', outputCol='words')\n",
    "\n",
    "wordsData = tokenizer.transform(df)\n",
    "\n",
    "#初始化词频（tf）特征抽取模型。\n",
    "countVec = CountVectorizer(inputCol='words', outputCol='tf_features', vocabSize=100)\n",
    "\n",
    "tf_model = countVec.fit(wordsData)\n",
    "\n",
    "featurizedData = tf_model.transform(wordsData)\n",
    "\n",
    "#初始化idf特征抽取模型。\n",
    "idf = IDF(inputCol='tf_features', outputCol='tfidf_features')\n",
    "\n",
    "idfModel = idf.fit(featurizedData)\n",
    "\n",
    "result_df = idfModel.transform(featurizedData)\n",
    "\n",
    "#将分布式数据的部分列，并集中存储到内存变量results中。\n",
    "results = result_df.select('texts','tf_features', 'tfidf_features').collect()\n",
    "\n",
    "#展示前3行文本的tf与tfidf特征。\n",
    "for items in results[:3]:\n",
    "    print (items)"
   ]
  }
 ],
 "metadata": {
  "kernelspec": {
   "display_name": "Python 3 (ipykernel)",
   "language": "python",
   "name": "python3"
  },
  "language_info": {
   "codemirror_mode": {
    "name": "ipython",
    "version": 3
   },
   "file_extension": ".py",
   "mimetype": "text/x-python",
   "name": "python",
   "nbconvert_exporter": "python",
   "pygments_lexer": "ipython3",
   "version": "3.8.11"
  }
 },
 "nbformat": 4,
 "nbformat_minor": 5
}
