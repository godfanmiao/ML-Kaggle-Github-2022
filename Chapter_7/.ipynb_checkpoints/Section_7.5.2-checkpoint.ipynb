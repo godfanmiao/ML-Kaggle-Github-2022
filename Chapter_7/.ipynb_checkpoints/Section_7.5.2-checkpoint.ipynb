{
 "cells": [
  {
   "cell_type": "code",
   "execution_count": 1,
   "id": "c4b0c8ee",
   "metadata": {},
   "outputs": [
    {
     "name": "stderr",
     "output_type": "stream",
     "text": [
      "21/10/22 11:08:17 WARN NativeCodeLoader: Unable to load native-hadoop library for your platform... using builtin-java classes where applicable\n",
      "Using Spark's default log4j profile: org/apache/spark/log4j-defaults.properties\n",
      "Setting default log level to \"WARN\".\n",
      "To adjust logging level use sc.setLogLevel(newLevel). For SparkR, use setLogLevel(newLevel).\n",
      "21/10/22 11:08:25 WARN Utils: Service 'SparkUI' could not bind on port 4040. Attempting port 4041.\n",
      "21/10/22 11:08:25 WARN Utils: Service 'SparkUI' could not bind on port 4041. Attempting port 4042.\n",
      "21/10/22 11:08:25 WARN Utils: Service 'SparkUI' could not bind on port 4042. Attempting port 4043.\n",
      "21/10/22 11:08:25 WARN Utils: Service 'SparkUI' could not bind on port 4043. Attempting port 4044.\n",
      "21/10/22 11:08:25 WARN Utils: Service 'SparkUI' could not bind on port 4044. Attempting port 4045.\n",
      "                                                                                \r"
     ]
    }
   ],
   "source": [
    "from pyspark.sql import SparkSession\n",
    "import pyspark.sql.functions as func\n",
    "\n",
    "\n",
    "#创建SparkSession。\n",
    "spark = SparkSession.builder.getOrCreate()\n",
    "\n",
    "#读取文件并存储到DataFrame中。\n",
    "df = spark.read.csv('../Datasets/news/news_sentiment.csv', header=False)\n",
    "\n",
    "#指定标签列，并对文本特征列的数据进行分词处理。\n",
    "df = df.select(df._c0.alias('label'), func.split(df._c1, ' ').alias('words'))\n",
    "\n",
    "#分割出训练和测试集。\n",
    "(train_df, test_df) = df.randomSplit([0.8, 0.2], seed=2021)"
   ]
  },
  {
   "cell_type": "code",
   "execution_count": null,
   "id": "bf205f72",
   "metadata": {},
   "outputs": [
    {
     "name": "stderr",
     "output_type": "stream",
     "text": [
      "21/10/22 11:08:53 WARN BLAS: Failed to load implementation from: com.github.fommil.netlib.NativeSystemBLAS\n",
      "21/10/22 11:08:53 WARN BLAS: Failed to load implementation from: com.github.fommil.netlib.NativeRefBLAS\n",
      "                                                                                \r"
     ]
    }
   ],
   "source": [
    "from pyspark.ml.feature import CountVectorizer, StringIndexer, StandardScaler\n",
    "from pyspark.ml.classification import LogisticRegression\n",
    "from pyspark.ml import Pipeline\n",
    "from pyspark.ml.tuning import ParamGridBuilder, CrossValidator\n",
    "from pyspark.ml.evaluation import MulticlassClassificationEvaluator\n",
    "\n",
    "\n",
    "#对标签数据进行数字化编码。\n",
    "labelIndexer = StringIndexer(inputCol=\"label\", outputCol=\"idx_label\")\n",
    "\n",
    "#对文本数据进行词频特征抽取。\n",
    "cv = CountVectorizer(inputCol=\"words\", outputCol=\"features\", vocabSize=500)\n",
    "\n",
    "#对词频特征进行标准化转换。\n",
    "scaler = StandardScaler(inputCol='features', outputCol='scaled_features')\n",
    "\n",
    "#使用逻辑斯蒂回归分类器。\n",
    "classifier = LogisticRegression(labelCol=\"idx_label\", featuresCol=\"scaled_features\")\n",
    "\n",
    "#使用Pipeline，构建标签编码、特征抽取、特征转换，以及模型分类的执行流程。\n",
    "pipeline = Pipeline(stages=[labelIndexer, cv, scaler, classifier])\n",
    "\n",
    "\n",
    "#采用留一验证方式进行超参数寻优。\n",
    "paramGrid = ParamGridBuilder()\\\n",
    "    .addGrid(classifier.regParam, [1.0, 0.1, 0.01]) \\\n",
    "    .addGrid(classifier.fitIntercept, [False, True])\\\n",
    "    .addGrid(classifier.elasticNetParam, [0.0, 0.2, 0.5, 0.8, 1.0])\\\n",
    "    .build()\n",
    "\n",
    "#构建评估器。\n",
    "evaluator = MulticlassClassificationEvaluator(labelCol=\"idx_label\", predictionCol=\"prediction\", metricName=\"accuracy\")\n",
    "\n",
    "#采用交叉验证的方式进行超参数寻优。\n",
    "cross_val = CrossValidator(estimator=pipeline, estimatorParamMaps=paramGrid,\n",
    "                           evaluator=evaluator, numFolds=5)\n",
    "\n",
    "model = cross_val.fit(train_df)\n",
    "\n",
    "predictions = model.transform(test_df)"
   ]
  },
  {
   "cell_type": "code",
   "execution_count": null,
   "id": "d2583336",
   "metadata": {},
   "outputs": [],
   "source": [
    "accuracy = evaluator.evaluate(predictions)\n",
    "\n",
    "#评估分类器的准确率。\n",
    "print ('Spark-ML的逻辑斯蒂回归分类器经过交叉验证优化后，在news_sentiment测试集上的准确率为：%.2f%%。' %(accuracy * 100))"
   ]
  },
  {
   "cell_type": "code",
   "execution_count": null,
   "id": "55597dbd",
   "metadata": {},
   "outputs": [],
   "source": []
  }
 ],
 "metadata": {
  "kernelspec": {
   "display_name": "Python 3 (ipykernel)",
   "language": "python",
   "name": "python3"
  },
  "language_info": {
   "codemirror_mode": {
    "name": "ipython",
    "version": 3
   },
   "file_extension": ".py",
   "mimetype": "text/x-python",
   "name": "python",
   "nbconvert_exporter": "python",
   "pygments_lexer": "ipython3",
   "version": "3.8.12"
  }
 },
 "nbformat": 4,
 "nbformat_minor": 5
}
