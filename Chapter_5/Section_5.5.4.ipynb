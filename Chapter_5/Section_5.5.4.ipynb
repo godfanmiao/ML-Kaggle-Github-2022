{
 "cells": [
  {
   "cell_type": "code",
   "execution_count": 1,
   "id": "2d7716e9",
   "metadata": {},
   "outputs": [],
   "source": [
    "import pandas as pd\n",
    "\n",
    "\n",
    "#使用pandas，读取fashion_mnist的训练和测试数据文件。\n",
    "train_data = pd.read_csv('../datasets/fashion_mnist/fashion_mnist_train.csv')\n",
    "test_data = pd.read_csv('../datasets/fashion_mnist/fashion_mnist_test.csv')"
   ]
  },
  {
   "cell_type": "code",
   "execution_count": 2,
   "id": "b249925c",
   "metadata": {},
   "outputs": [],
   "source": [
    "#从训练数据中，拆解出训练特征和类别标签。\n",
    "X_train = train_data[train_data.columns[1:]]\n",
    "y_train = train_data['label']\n",
    "\n",
    "#从测试数据中，拆解出测试特征和类别标签。\n",
    "X_test = test_data[train_data.columns[1:]]\n",
    "y_test = test_data['label']"
   ]
  },
  {
   "cell_type": "code",
   "execution_count": 3,
   "id": "5e3f8a50",
   "metadata": {},
   "outputs": [
    {
     "name": "stdout",
     "output_type": "stream",
     "text": [
      "Scikit-learn的随机森林分类器在fashion_mnist测试集上的准确率为：86.42%。\n"
     ]
    }
   ],
   "source": [
    "from sklearn.ensemble import RandomForestClassifier\n",
    "from sklearn.metrics import accuracy_score\n",
    "\n",
    "\n",
    "#初始化随机森林分类器模型，并明确设定超参数。\n",
    "rfc = RandomForestClassifier(n_estimators=10, random_state=2022)\n",
    "\n",
    "#使用训练数据，训练随机森林分类器模型。\n",
    "rfc.fit(X_train, y_train)\n",
    "\n",
    "#使用训练好的分类模型，依据测试数据的特征，进行类别预测。\n",
    "y_predict = rfc.predict(X_test)\n",
    "\n",
    "#评估分类器的准确率。\n",
    "print('Scikit-learn的随机森林分类器在fashion_mnist测试集上的准确率为：%.2f%%。' %(accuracy_score(y_test, y_predict) * 100))"
   ]
  },
  {
   "cell_type": "code",
   "execution_count": 4,
   "id": "b490968a",
   "metadata": {},
   "outputs": [
    {
     "name": "stdout",
     "output_type": "stream",
     "text": [
      "Scikit-learn的随机森林分类器在fashion_mnist测试集上的准确率为：88.55%。\n"
     ]
    }
   ],
   "source": [
    "from sklearn.ensemble import RandomForestClassifier\n",
    "from sklearn.model_selection import GridSearchCV\n",
    "from sklearn.metrics import accuracy_score\n",
    "\n",
    "\n",
    "#预设超参数的候选值。\n",
    "parameters = {'n_estimators':[10, 50, 100]}\n",
    "\n",
    "#初始化随机森林分类器模型。\n",
    "rfc = RandomForestClassifier(random_state=2022)\n",
    "\n",
    "clf = GridSearchCV(rfc, parameters)\n",
    "\n",
    "#使用训练数据，训练随机森林分类器模型。\n",
    "clf.fit(X_train, y_train)\n",
    "\n",
    "#使用训练好的分类模型，依据测试数据的特征，进行类别预测。\n",
    "y_predict = clf.predict(X_test)\n",
    "\n",
    "#评估分类器的准确率。\n",
    "print('Scikit-learn的随机森林分类器在fashion_mnist测试集上的准确率为：%.2f%%。' %(accuracy_score(y_test, y_predict) * 100))"
   ]
  },
  {
   "cell_type": "code",
   "execution_count": 5,
   "id": "048a9aa2",
   "metadata": {},
   "outputs": [
    {
     "data": {
      "text/plain": [
       "{'n_estimators': 100}"
      ]
     },
     "execution_count": 5,
     "metadata": {},
     "output_type": "execute_result"
    }
   ],
   "source": [
    "clf.best_params_"
   ]
  }
 ],
 "metadata": {
  "kernelspec": {
   "display_name": "Python 3",
   "language": "python",
   "name": "python3"
  },
  "language_info": {
   "codemirror_mode": {
    "name": "ipython",
    "version": 3
   },
   "file_extension": ".py",
   "mimetype": "text/x-python",
   "name": "python",
   "nbconvert_exporter": "python",
   "pygments_lexer": "ipython3",
   "version": "3.8.11"
  }
 },
 "nbformat": 4,
 "nbformat_minor": 5
}
