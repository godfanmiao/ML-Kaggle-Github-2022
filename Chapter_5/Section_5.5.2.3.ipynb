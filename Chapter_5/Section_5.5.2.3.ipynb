{
 "cells": [
  {
   "cell_type": "code",
   "execution_count": 8,
   "id": "3085f325",
   "metadata": {},
   "outputs": [
    {
     "data": {
      "text/plain": [
       "(1797, 64)"
      ]
     },
     "execution_count": 8,
     "metadata": {},
     "output_type": "execute_result"
    }
   ],
   "source": [
    "from sklearn.datasets import load_digits\n",
    "\n",
    "\n",
    "#读取数据集。\n",
    "dataset = load_digits()\n",
    "\n",
    "#查看数据的样本数量和特征维度。\n",
    "dataset.data.shape"
   ]
  },
  {
   "cell_type": "code",
   "execution_count": 9,
   "id": "2d7716e9",
   "metadata": {},
   "outputs": [
    {
     "data": {
      "text/plain": [
       "(1797, 2145)"
      ]
     },
     "execution_count": 9,
     "metadata": {},
     "output_type": "execute_result"
    }
   ],
   "source": [
    "from sklearn.preprocessing import PolynomialFeatures\n",
    "\n",
    "\n",
    "#初始化多项式特征生成器。\n",
    "pf = PolynomialFeatures(degree=2)\n",
    "\n",
    "#对数据进行特征升维处理。\n",
    "hd_data = pf.fit_transform(dataset.data)\n",
    "\n",
    "#查看升维后的数据量与特征维度。\n",
    "hd_data.shape"
   ]
  },
  {
   "cell_type": "code",
   "execution_count": 10,
   "id": "c1967df4",
   "metadata": {},
   "outputs": [
    {
     "data": {
      "text/plain": [
       "(1797, 3)"
      ]
     },
     "execution_count": 10,
     "metadata": {},
     "output_type": "execute_result"
    }
   ],
   "source": [
    "from sklearn.decomposition import PCA\n",
    "\n",
    "\n",
    "#初始化PCA降维模型。\n",
    "pca = PCA(n_components=3)\n",
    "\n",
    "#对数据进行特征降维处理。\n",
    "ld_data = pca.fit_transform(dataset.data)\n",
    "\n",
    "#查看降维后的数据量与特征维度。\n",
    "ld_data.shape"
   ]
  },
  {
   "cell_type": "code",
   "execution_count": null,
   "id": "c5bd200b",
   "metadata": {},
   "outputs": [],
   "source": []
  }
 ],
 "metadata": {
  "kernelspec": {
   "display_name": "Python 3 (ipykernel)",
   "language": "python",
   "name": "python3"
  },
  "language_info": {
   "codemirror_mode": {
    "name": "ipython",
    "version": 3
   },
   "file_extension": ".py",
   "mimetype": "text/x-python",
   "name": "python",
   "nbconvert_exporter": "python",
   "pygments_lexer": "ipython3",
   "version": "3.8.12"
  }
 },
 "nbformat": 4,
 "nbformat_minor": 5
}
