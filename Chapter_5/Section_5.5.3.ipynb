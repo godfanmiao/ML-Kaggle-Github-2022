{
 "cells": [
  {
   "cell_type": "code",
   "execution_count": 1,
   "id": "3085f325",
   "metadata": {
    "scrolled": true
   },
   "outputs": [
    {
     "data": {
      "text/plain": [
       "(442, 10)"
      ]
     },
     "execution_count": 1,
     "metadata": {},
     "output_type": "execute_result"
    }
   ],
   "source": [
    "from sklearn.datasets import load_diabetes\n",
    "\n",
    "\n",
    "#加载糖尿病数据集。\n",
    "dataset = load_diabetes()\n",
    "\n",
    "#查看数据的样本数量和特征维度。\n",
    "dataset.data.shape"
   ]
  },
  {
   "cell_type": "code",
   "execution_count": 2,
   "id": "f908b092",
   "metadata": {},
   "outputs": [
    {
     "data": {
      "text/plain": [
       "(265, 10)"
      ]
     },
     "execution_count": 2,
     "metadata": {},
     "output_type": "execute_result"
    }
   ],
   "source": [
    "from sklearn.model_selection import train_test_split\n",
    "\n",
    "\n",
    "#按照6:4的比例分割出训练和测试集。\n",
    "X_train, X_test, y_train, y_test = train_test_split(dataset.data, dataset.target, train_size=0.6, random_state=2022)\n",
    "\n",
    "#查看训练集的样本数量和特征维度。\n",
    "X_train.shape"
   ]
  },
  {
   "cell_type": "code",
   "execution_count": 3,
   "id": "9ff01d70",
   "metadata": {},
   "outputs": [],
   "source": [
    "from sklearn.preprocessing import StandardScaler\n",
    "\n",
    "\n",
    "#初始化特征标准化处理器。\n",
    "ss = StandardScaler()\n",
    "\n",
    "#标准化训练数据特征。\n",
    "X_train = ss.fit_transform(X_train)\n",
    "\n",
    "#标准化测试数据特征。\n",
    "X_test = ss.transform(X_test)"
   ]
  },
  {
   "cell_type": "code",
   "execution_count": 4,
   "id": "5562847d",
   "metadata": {},
   "outputs": [
    {
     "name": "stdout",
     "output_type": "stream",
     "text": [
      "Scikit-learn的线性回归器模型（无参数正则化）在diabetes测试集上的均方误差为：3039.19。\n"
     ]
    }
   ],
   "source": [
    "from sklearn.linear_model import LinearRegression\n",
    "from sklearn.metrics import mean_squared_error\n",
    "\n",
    "\n",
    "#初始化线性回归器模型，不采用参数正则化。\n",
    "lr = LinearRegression()\n",
    "\n",
    "#用训练集数据训练回归器模型。\n",
    "lr.fit(X_train, y_train)\n",
    "\n",
    "#用训练好的分类模型，在测试集上预测一遍。\n",
    "y_predict = lr.predict(X_test)\n",
    "\n",
    "print('Scikit-learn的线性回归器模型（无参数正则化）在diabetes测试集上的均方误差为：%.2f。' %(mean_squared_error(y_test, y_predict)))"
   ]
  },
  {
   "cell_type": "code",
   "execution_count": 5,
   "id": "2d7716e9",
   "metadata": {},
   "outputs": [
    {
     "name": "stdout",
     "output_type": "stream",
     "text": [
      "Scikit-learn的线性回归器模型（参数L2正则化）在diabetes测试集上的均方误差为：3037.06。\n"
     ]
    }
   ],
   "source": [
    "from sklearn.linear_model import Ridge\n",
    "from sklearn.metrics import mean_squared_error\n",
    "\n",
    "\n",
    "#初始化线性回归器模型，采用参数L2正则化。\n",
    "lr = Ridge()\n",
    "\n",
    "#用训练集数据训练回归器模型。\n",
    "lr.fit(X_train, y_train)\n",
    "\n",
    "#用训练好的分类模型，在测试集上预测一遍。\n",
    "y_predict = lr.predict(X_test)\n",
    "\n",
    "print('Scikit-learn的线性回归器模型（参数L2正则化）在diabetes测试集上的均方误差为：%.2f。' %(mean_squared_error(y_test, y_predict)))"
   ]
  },
  {
   "cell_type": "code",
   "execution_count": 6,
   "id": "133fef9a",
   "metadata": {},
   "outputs": [
    {
     "name": "stdout",
     "output_type": "stream",
     "text": [
      "Scikit-learn的线性回归器模型（参数L1正则化）在diabetes测试集上的均方误差为：3038.18。\n"
     ]
    }
   ],
   "source": [
    "from sklearn.linear_model import Lasso\n",
    "from sklearn.metrics import mean_squared_error\n",
    "\n",
    "\n",
    "#初始化线性回归器模型，采用参数L1正则化。\n",
    "lr = Lasso()\n",
    "\n",
    "#用训练集数据训练回归器模型。\n",
    "lr.fit(X_train, y_train)\n",
    "\n",
    "#用训练好的分类模型，在测试集上预测一遍。\n",
    "y_predict = lr.predict(X_test)\n",
    "\n",
    "print('Scikit-learn的线性回归器模型（参数L1正则化）在diabetes测试集上的均方误差为：%.2f。' %(mean_squared_error(y_test, y_predict)))"
   ]
  },
  {
   "cell_type": "code",
   "execution_count": 7,
   "id": "af63df3f",
   "metadata": {},
   "outputs": [
    {
     "data": {
      "text/plain": [
       "(265, 66)"
      ]
     },
     "execution_count": 7,
     "metadata": {},
     "output_type": "execute_result"
    }
   ],
   "source": [
    "from sklearn.preprocessing import PolynomialFeatures\n",
    "\n",
    "\n",
    "#初始化多项式特征生成器。\n",
    "pf = PolynomialFeatures(degree=2)\n",
    "\n",
    "#对训练数据进行特征升维处理。\n",
    "X_train = pf.fit_transform(X_train)\n",
    "\n",
    "#对测试数据进行特征升维处理。\n",
    "X_test = pf.transform(X_test)\n",
    "\n",
    "#查看升维训练集的样本数量和特征维度\n",
    "X_train.shape"
   ]
  },
  {
   "cell_type": "code",
   "execution_count": 8,
   "id": "002a104d",
   "metadata": {},
   "outputs": [
    {
     "name": "stdout",
     "output_type": "stream",
     "text": [
      "Scikit-learn的线性回归器模型（参数L1正则化）在diabetes升维测试集上的均方误差为：2964.62。\n"
     ]
    }
   ],
   "source": [
    "from sklearn.linear_model import Lasso\n",
    "from sklearn.metrics import mean_squared_error\n",
    "\n",
    "\n",
    "#初始化线性回归器模型，采用参数L1正则化。\n",
    "lr = Lasso()\n",
    "\n",
    "#用升维的训练集数据训练回归器模型。\n",
    "lr.fit(X_train, y_train)\n",
    "\n",
    "#用训练好的分类模型，在升维的测试集上预测一遍。\n",
    "y_predict = lr.predict(X_test)\n",
    "\n",
    "print('Scikit-learn的线性回归器模型（参数L1正则化）在diabetes升维测试集上的均方误差为：%.2f。' %(mean_squared_error(y_test, y_predict)))"
   ]
  },
  {
   "cell_type": "code",
   "execution_count": null,
   "id": "3b4ddfe6",
   "metadata": {},
   "outputs": [],
   "source": []
  }
 ],
 "metadata": {
  "kernelspec": {
   "display_name": "Python 3 (ipykernel)",
   "language": "python",
   "name": "python3"
  },
  "language_info": {
   "codemirror_mode": {
    "name": "ipython",
    "version": 3
   },
   "file_extension": ".py",
   "mimetype": "text/x-python",
   "name": "python",
   "nbconvert_exporter": "python",
   "pygments_lexer": "ipython3",
   "version": "3.8.12"
  }
 },
 "nbformat": 4,
 "nbformat_minor": 5
}
