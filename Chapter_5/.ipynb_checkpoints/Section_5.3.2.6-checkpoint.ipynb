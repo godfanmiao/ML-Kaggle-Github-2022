{
 "cells": [
  {
   "cell_type": "code",
   "execution_count": 1,
   "id": "eb2eb421",
   "metadata": {},
   "outputs": [],
   "source": [
    "import pandas as pd\n",
    "\n",
    "\n",
    "#使用pandas，读取数据文件。\n",
    "data = pd.read_csv('../datasets/white_wine/white_wine_quality.csv', sep=';')\n",
    "\n",
    "#从数据中拆分出特征与目标值。\n",
    "X = data[data.columns[:-1]]\n",
    "y = data[data.columns[-1]]"
   ]
  },
  {
   "cell_type": "code",
   "execution_count": 2,
   "id": "395ae5f6",
   "metadata": {},
   "outputs": [],
   "source": [
    "from sklearn.model_selection import train_test_split\n",
    "\n",
    "\n",
    "#拆分训练集和测试集。\n",
    "X_train, X_test, y_train, y_test = train_test_split(X, y, train_size=0.8, random_state=2022)"
   ]
  },
  {
   "cell_type": "code",
   "execution_count": 3,
   "id": "eb396973",
   "metadata": {},
   "outputs": [
    {
     "name": "stdout",
     "output_type": "stream",
     "text": [
      "Scikit-learn的随机森林回归器在white_wine_quality测试集上的均方误差为：0.3155。\n"
     ]
    }
   ],
   "source": [
    "from sklearn.ensemble import RandomForestRegressor\n",
    "from sklearn.metrics import mean_squared_error\n",
    "\n",
    "\n",
    "#初始化随机森林回归器模型。\n",
    "rfr = RandomForestRegressor()\n",
    "\n",
    "#使用训练数据，训练随机森林回归器模型。\n",
    "rfr.fit(X_train, y_train)\n",
    "\n",
    "#使用训练好的回归模型，依据测试数据的特征，进行数值回归。\n",
    "y_predict = rfr.predict(X_test)\n",
    "\n",
    "#评估回归器的误差。\n",
    "print ('Scikit-learn的随机森林回归器在white_wine_quality测试集上的均方误差为：%.4f。' %mean_squared_error(y_test, y_predict))"
   ]
  },
  {
   "cell_type": "code",
   "execution_count": 4,
   "id": "8177312b",
   "metadata": {},
   "outputs": [
    {
     "name": "stdout",
     "output_type": "stream",
     "text": [
      "Scikit-learn的梯度提升树回归器在white_wine_quality测试集上的均方误差为：0.4169。\n"
     ]
    }
   ],
   "source": [
    "from sklearn.ensemble import GradientBoostingRegressor\n",
    "from sklearn.metrics import mean_squared_error\n",
    "\n",
    "\n",
    "#初始化梯度提升树回归器模型。\n",
    "gbr = GradientBoostingRegressor()\n",
    "\n",
    "#使用训练数据，训练梯度提升树回归器模型。\n",
    "gbr.fit(X_train, y_train)\n",
    "\n",
    "#使用训练好的回归模型，依据测试数据的特征，进行数值回归。\n",
    "y_predict = gbr.predict(X_test)\n",
    "\n",
    "#评估回归器的误差。\n",
    "print ('Scikit-learn的梯度提升树回归器在white_wine_quality测试集上的均方误差为：%.4f。' %mean_squared_error(y_test, y_predict))"
   ]
  },
  {
   "cell_type": "code",
   "execution_count": 5,
   "id": "27439a62",
   "metadata": {},
   "outputs": [
    {
     "name": "stdout",
     "output_type": "stream",
     "text": [
      "Scikit-learn的极度随机树回归器在white_wine_quality测试集上的均方误差为：0.3009。\n"
     ]
    }
   ],
   "source": [
    "from sklearn.ensemble import ExtraTreesRegressor\n",
    "from sklearn.metrics import mean_squared_error\n",
    "\n",
    "\n",
    "#初始化极度随机树回归器模型。\n",
    "etr = ExtraTreesRegressor()\n",
    "\n",
    "#使用训练数据，训练极度随机树回归器模型。\n",
    "etr.fit(X_train, y_train)\n",
    "\n",
    "#使用训练好的回归模型，依据测试数据的特征，进行数值回归。\n",
    "y_predict = etr.predict(X_test)\n",
    "\n",
    "#评估回归器的误差。\n",
    "print ('Scikit-learn的极度随机树回归器在white_wine_quality测试集上的均方误差为：%.4f。' %mean_squared_error(y_test, y_predict))"
   ]
  }
 ],
 "metadata": {
  "kernelspec": {
   "display_name": "Python 3",
   "language": "python",
   "name": "python3"
  },
  "language_info": {
   "codemirror_mode": {
    "name": "ipython",
    "version": 3
   },
   "file_extension": ".py",
   "mimetype": "text/x-python",
   "name": "python",
   "nbconvert_exporter": "python",
   "pygments_lexer": "ipython3",
   "version": "3.8.11"
  }
 },
 "nbformat": 4,
 "nbformat_minor": 5
}
