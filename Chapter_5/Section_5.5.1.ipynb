{
 "cells": [
  {
   "cell_type": "code",
   "execution_count": 1,
   "id": "3085f325",
   "metadata": {},
   "outputs": [],
   "source": [
    "import pandas as pd\n",
    "\n",
    "\n",
    "#使用pandas，读取fashion_mnist的训练和测试数据文件。\n",
    "train_data = pd.read_csv('../datasets/fashion_mnist/fashion_mnist_train.csv')\n",
    "test_data = pd.read_csv('../datasets/fashion_mnist/fashion_mnist_test.csv')"
   ]
  },
  {
   "cell_type": "code",
   "execution_count": 2,
   "id": "eb2eb421",
   "metadata": {},
   "outputs": [],
   "source": [
    "#从训练数据中，拆解出训练特征和类别标签。\n",
    "X_train = train_data[train_data.columns[1:]]\n",
    "y_train = train_data['label']\n",
    "\n",
    "#从测试数据中，拆解出测试特征和类别标签。\n",
    "X_test = test_data[train_data.columns[1:]]\n",
    "y_test = test_data['label']"
   ]
  },
  {
   "cell_type": "code",
   "execution_count": 3,
   "id": "2d7716e9",
   "metadata": {},
   "outputs": [
    {
     "name": "stdout",
     "output_type": "stream",
     "text": [
      "Scikit-learn的随机森林分类器在fashion_mnist训练集上的准确率为：99.53%。\n"
     ]
    }
   ],
   "source": [
    "from sklearn.ensemble import RandomForestClassifier\n",
    "from sklearn.metrics import accuracy_score\n",
    "\n",
    "\n",
    "#初始化随机森林分类器模型，默认采用10个树。\n",
    "rfc = RandomForestClassifier(n_estimators=10, random_state=2022)\n",
    "\n",
    "#用训练集数据训练随机森林分类器模型。\n",
    "rfc.fit(X_train, y_train)\n",
    "\n",
    "#用训练好的分类模型，在训练集上重新预测一遍。\n",
    "y_predict = rfc.predict(X_train)\n",
    "\n",
    "print('Scikit-learn的随机森林分类器在fashion_mnist训练集上的准确率为：%.2f%%。' %(accuracy_score(y_train, y_predict)* 100))"
   ]
  },
  {
   "cell_type": "code",
   "execution_count": 4,
   "id": "133fef9a",
   "metadata": {},
   "outputs": [
    {
     "name": "stdout",
     "output_type": "stream",
     "text": [
      "Scikit-learn的随机森林分类器在fashion_mnist训练集上交叉验证的平均准确率为：85.71%。\n"
     ]
    }
   ],
   "source": [
    "from sklearn.model_selection import cross_val_score\n",
    "import numpy as np\n",
    "\n",
    "\n",
    "#采用5折交叉验证，评估分类模型。\n",
    "scores = cross_val_score(rfc, X_train, y_train, cv=5)\n",
    "\n",
    "print('Scikit-learn的随机森林分类器在fashion_mnist训练集上交叉验证的平均准确率为：%.2f%%。' %(np.mean(scores) * 100))"
   ]
  },
  {
   "cell_type": "code",
   "execution_count": 5,
   "id": "de200268",
   "metadata": {},
   "outputs": [
    {
     "name": "stdout",
     "output_type": "stream",
     "text": [
      "Scikit-learn的随机森林分类器在fashion_mnist测试集上的准确率为：86.42%。\n"
     ]
    }
   ],
   "source": [
    "from sklearn.metrics import accuracy_score\n",
    "\n",
    "\n",
    "#用训练好的分类模型，在测试集上预测一遍。\n",
    "y_predict = rfc.predict(X_test)\n",
    "\n",
    "#评估分类器在测试集上的准确率。\n",
    "print('Scikit-learn的随机森林分类器在fashion_mnist测试集上的准确率为：%.2f%%。' %(accuracy_score(y_test, y_predict)* 100))"
   ]
  }
 ],
 "metadata": {
  "kernelspec": {
   "display_name": "Python 3 (ipykernel)",
   "language": "python",
   "name": "python3"
  },
  "language_info": {
   "codemirror_mode": {
    "name": "ipython",
    "version": 3
   },
   "file_extension": ".py",
   "mimetype": "text/x-python",
   "name": "python",
   "nbconvert_exporter": "python",
   "pygments_lexer": "ipython3",
   "version": "3.8.12"
  }
 },
 "nbformat": 4,
 "nbformat_minor": 5
}
