{
 "cells": [
  {
   "cell_type": "code",
   "execution_count": 1,
   "id": "3085f325",
   "metadata": {},
   "outputs": [],
   "source": [
    "from sklearn.datasets import load_digits\n",
    "\n",
    "\n",
    "#读取digits数据集。\n",
    "digits = load_digits()"
   ]
  },
  {
   "cell_type": "code",
   "execution_count": 2,
   "id": "7c03d35e",
   "metadata": {},
   "outputs": [],
   "source": [
    "from sklearn.model_selection import train_test_split\n",
    "\n",
    "\n",
    "#拆分训练集和测试集。\n",
    "X_train, X_test, y_train, y_test = train_test_split(digits.data, digits.target, train_size=0.8, random_state=2022)"
   ]
  },
  {
   "cell_type": "code",
   "execution_count": 3,
   "id": "04278907",
   "metadata": {},
   "outputs": [],
   "source": [
    "from sklearn.preprocessing import StandardScaler\n",
    "\n",
    "\n",
    "#初始化数据标准化处理器。\n",
    "ss = StandardScaler()\n",
    "\n",
    "#标准化训练数据特征。\n",
    "X_train = ss.fit_transform(X_train)\n",
    "\n",
    "#标准化测试数据特征。\n",
    "X_test = ss.transform(X_test)"
   ]
  },
  {
   "cell_type": "code",
   "execution_count": 4,
   "id": "2dabbfd1",
   "metadata": {},
   "outputs": [
    {
     "name": "stderr",
     "output_type": "stream",
     "text": [
      "/opt/anaconda3/envs/python_ml/lib/python3.8/site-packages/sklearn/semi_supervised/_label_propagation.py:205: RuntimeWarning: invalid value encountered in true_divide\n",
      "  probabilities /= normalizer\n",
      "/opt/anaconda3/envs/python_ml/lib/python3.8/site-packages/sklearn/semi_supervised/_label_propagation.py:205: RuntimeWarning: invalid value encountered in true_divide\n",
      "  probabilities /= normalizer\n",
      "/opt/anaconda3/envs/python_ml/lib/python3.8/site-packages/sklearn/semi_supervised/_label_propagation.py:205: RuntimeWarning: invalid value encountered in true_divide\n",
      "  probabilities /= normalizer\n"
     ]
    },
    {
     "name": "stdout",
     "output_type": "stream",
     "text": [
      "Scikit-learn的标签传播算法在digits测试集上的准确率为：96.94%。（采用100.00%的训练样本）。\n",
      "Scikit-learn的标签传播算法在digits测试集上的准确率为：96.94%。（采用80.00%的训练样本）。\n",
      "Scikit-learn的标签传播算法在digits测试集上的准确率为：96.39%。（采用60.00%的训练样本）。\n",
      "Scikit-learn的标签传播算法在digits测试集上的准确率为：96.11%。（采用40.00%的训练样本）。\n",
      "Scikit-learn的标签传播算法在digits测试集上的准确率为：95.28%。（采用20.00%的训练样本）。\n"
     ]
    },
    {
     "name": "stderr",
     "output_type": "stream",
     "text": [
      "/opt/anaconda3/envs/python_ml/lib/python3.8/site-packages/sklearn/semi_supervised/_label_propagation.py:205: RuntimeWarning: invalid value encountered in true_divide\n",
      "  probabilities /= normalizer\n",
      "/opt/anaconda3/envs/python_ml/lib/python3.8/site-packages/sklearn/semi_supervised/_label_propagation.py:205: RuntimeWarning: invalid value encountered in true_divide\n",
      "  probabilities /= normalizer\n"
     ]
    }
   ],
   "source": [
    "import numpy as np\n",
    "from sklearn.semi_supervised import LabelSpreading\n",
    "from sklearn.metrics import accuracy_score\n",
    "\n",
    "\n",
    "for proportion in np.arange(0.0, 1.0, 0.2):\n",
    "    \n",
    "    rng = np.random.RandomState(2022)\n",
    "    \n",
    "    #随机将一定比例的标注数据转变为无标注数据。\n",
    "    random_unlabeled_points = rng.rand(y_train.shape[0]) < proportion\n",
    "\n",
    "    y_train[random_unlabeled_points] = -1\n",
    "\n",
    "    #初始化标签传播算法。\n",
    "    ls = LabelSpreading()\n",
    "    \n",
    "    ls.fit(X_train, y_train)\n",
    "\n",
    "    y_predict = ls.predict(X_test)\n",
    "\n",
    "    #评估标签传播算法在不同比例训练样本下的准确率。\n",
    "    print ('Scikit-learn的标签传播算法在digits测试集上的准确率为：%.2f%%。（采用%.2f%%的训练样本）。' \n",
    "           %(accuracy_score(y_test, y_predict) * 100, (1.0 - proportion)*100.0))"
   ]
  }
 ],
 "metadata": {
  "kernelspec": {
   "display_name": "Python 3 (ipykernel)",
   "language": "python",
   "name": "python3"
  },
  "language_info": {
   "codemirror_mode": {
    "name": "ipython",
    "version": 3
   },
   "file_extension": ".py",
   "mimetype": "text/x-python",
   "name": "python",
   "nbconvert_exporter": "python",
   "pygments_lexer": "ipython3",
   "version": "3.8.12"
  }
 },
 "nbformat": 4,
 "nbformat_minor": 5
}
