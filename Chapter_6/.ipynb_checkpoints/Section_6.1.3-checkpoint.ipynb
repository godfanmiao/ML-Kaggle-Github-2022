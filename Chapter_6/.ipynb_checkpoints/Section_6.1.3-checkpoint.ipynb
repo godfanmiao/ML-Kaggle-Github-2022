{
 "cells": [
  {
   "cell_type": "code",
   "execution_count": 1,
   "id": "49fbdb26",
   "metadata": {},
   "outputs": [
    {
     "name": "stdout",
     "output_type": "stream",
     "text": [
      "Collecting package metadata (current_repodata.json): done\n",
      "Solving environment: done\n",
      "\n",
      "\n",
      "==> WARNING: A newer version of conda exists. <==\n",
      "  current version: 4.10.1\n",
      "  latest version: 4.10.3\n",
      "\n",
      "Please update conda by running\n",
      "\n",
      "    $ conda update -n base -c defaults conda\n",
      "\n",
      "\n",
      "\n",
      "## Package Plan ##\n",
      "\n",
      "  environment location: /opt/anaconda3/envs/python_paddle\n",
      "\n",
      "  added / updated specs:\n",
      "    - paddlepaddle\n",
      "\n",
      "\n",
      "The following packages will be downloaded:\n",
      "\n",
      "    package                    |            build\n",
      "    ---------------------------|-----------------\n",
      "    paddlepaddle-2.2.0rc0      |         py38_mac        59.6 MB  https://mirrors.tuna.tsinghua.edu.cn/anaconda/cloud/Paddle\n",
      "    ------------------------------------------------------------\n",
      "                                           Total:        59.6 MB\n",
      "\n",
      "The following packages will be UPDATED:\n",
      "\n",
      "  paddlepaddle                               2.1.2-py38_mac --> 2.2.0rc0-py38_mac\n",
      "\n",
      "\n",
      "Proceed ([y]/n)? ^C\n",
      "\n",
      "CondaSystemExit: \n",
      "Operation aborted.  Exiting.\n",
      "\n"
     ]
    }
   ],
   "source": [
    "!conda install paddlepaddle==2.1.2 -c https://mirrors.tuna.tsinghua.edu.cn/anaconda/cloud/Paddle/"
   ]
  },
  {
   "cell_type": "code",
   "execution_count": 2,
   "id": "1e689ee4",
   "metadata": {},
   "outputs": [
    {
     "name": "stderr",
     "output_type": "stream",
     "text": [
      "sysctl: unknown oid 'machdep.cpu.leaf7_features'\n"
     ]
    },
    {
     "data": {
      "text/plain": [
       "'2.1.2'"
      ]
     },
     "execution_count": 2,
     "metadata": {},
     "output_type": "execute_result"
    }
   ],
   "source": [
    "'''\n",
    "在虚拟环境python_paddle中，启动jupyter notebook；\n",
    "并运行如下代码，检查各个程序库的版本。\n",
    "'''\n",
    "import paddle\n",
    "\n",
    "\n",
    "#查看PaddlePaddle的版本号。\n",
    "paddle.__version__"
   ]
  },
  {
   "cell_type": "code",
   "execution_count": 3,
   "id": "09e96276",
   "metadata": {},
   "outputs": [
    {
     "data": {
      "text/plain": [
       "'1.20.3'"
      ]
     },
     "execution_count": 3,
     "metadata": {},
     "output_type": "execute_result"
    }
   ],
   "source": [
    "import numpy as np\n",
    "\n",
    "\n",
    "np.__version__"
   ]
  },
  {
   "cell_type": "code",
   "execution_count": 4,
   "id": "120b8fea",
   "metadata": {},
   "outputs": [
    {
     "data": {
      "text/plain": [
       "'1.3.2'"
      ]
     },
     "execution_count": 4,
     "metadata": {},
     "output_type": "execute_result"
    }
   ],
   "source": [
    "import pandas as pd\n",
    "\n",
    "\n",
    "pd.__version__"
   ]
  },
  {
   "cell_type": "code",
   "execution_count": null,
   "id": "0d59e3b4",
   "metadata": {},
   "outputs": [],
   "source": []
  }
 ],
 "metadata": {
  "kernelspec": {
   "display_name": "Python 3 (ipykernel)",
   "language": "python",
   "name": "python3"
  },
  "language_info": {
   "codemirror_mode": {
    "name": "ipython",
    "version": 3
   },
   "file_extension": ".py",
   "mimetype": "text/x-python",
   "name": "python",
   "nbconvert_exporter": "python",
   "pygments_lexer": "ipython3",
   "version": "3.8.12"
  }
 },
 "nbformat": 4,
 "nbformat_minor": 5
}
