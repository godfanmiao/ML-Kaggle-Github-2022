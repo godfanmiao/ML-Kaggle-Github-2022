{
 "cells": [
  {
   "cell_type": "code",
   "execution_count": 1,
   "id": "d891e8b8",
   "metadata": {},
   "outputs": [
    {
     "data": {
      "text/plain": [
       "7.38905609893065"
      ]
     },
     "execution_count": 1,
     "metadata": {},
     "output_type": "execute_result"
    }
   ],
   "source": [
    "#导入math编程库（包）\n",
    "import math\n",
    "\n",
    "# 从math编程库（包）中调用exp函数。\n",
    "math.exp(2.0)"
   ]
  },
  {
   "cell_type": "code",
   "execution_count": 2,
   "id": "044c9690",
   "metadata": {},
   "outputs": [
    {
     "data": {
      "text/plain": [
       "7.38905609893065"
      ]
     },
     "execution_count": 2,
     "metadata": {},
     "output_type": "execute_result"
    }
   ],
   "source": [
    "#从math编程库（包）里导入exp函数\n",
    "from math import exp\n",
    "\n",
    "# 直接使用函数名称调用exp，不需要声明math编程库（包）。\n",
    "exp(2.0)\n"
   ]
  },
  {
   "cell_type": "code",
   "execution_count": 3,
   "id": "a7348f84",
   "metadata": {},
   "outputs": [
    {
     "data": {
      "text/plain": [
       "7.38905609893065"
      ]
     },
     "execution_count": 3,
     "metadata": {},
     "output_type": "execute_result"
    }
   ],
   "source": [
    "#从math编程库（包）里导入exp函数，并且将exp重命名为ep\n",
    "from math import exp as ep\n",
    "\n",
    "ep(2.0)"
   ]
  },
  {
   "cell_type": "code",
   "execution_count": null,
   "id": "11b3e057",
   "metadata": {},
   "outputs": [],
   "source": []
  }
 ],
 "metadata": {
  "kernelspec": {
   "display_name": "Python 3",
   "language": "python",
   "name": "python3"
  },
  "language_info": {
   "codemirror_mode": {
    "name": "ipython",
    "version": 3
   },
   "file_extension": ".py",
   "mimetype": "text/x-python",
   "name": "python",
   "nbconvert_exporter": "python",
   "pygments_lexer": "ipython3",
   "version": "3.8.11"
  }
 },
 "nbformat": 4,
 "nbformat_minor": 5
}
