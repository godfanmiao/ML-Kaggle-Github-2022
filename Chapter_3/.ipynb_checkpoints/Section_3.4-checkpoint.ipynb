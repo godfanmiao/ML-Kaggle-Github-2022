{
 "cells": [
  {
   "cell_type": "code",
   "execution_count": 1,
   "id": "c75a6ca6",
   "metadata": {},
   "outputs": [
    {
     "data": {
      "text/plain": [
       "30.0"
      ]
     },
     "execution_count": 1,
     "metadata": {},
     "output_type": "execute_result"
    }
   ],
   "source": [
    "10 + 20.0 #整型数与浮点型数的加法，结果是浮点型数"
   ]
  },
  {
   "cell_type": "code",
   "execution_count": 2,
   "id": "5f0a8c08",
   "metadata": {},
   "outputs": [
    {
     "data": {
      "text/plain": [
       "-30"
      ]
     },
     "execution_count": 2,
     "metadata": {},
     "output_type": "execute_result"
    }
   ],
   "source": [
    "30 - 60 #整型数与整型数的减法，结果是整型数"
   ]
  },
  {
   "cell_type": "code",
   "execution_count": 3,
   "id": "3d6b93fa",
   "metadata": {},
   "outputs": [
    {
     "data": {
      "text/plain": [
       "32"
      ]
     },
     "execution_count": 3,
     "metadata": {},
     "output_type": "execute_result"
    }
   ],
   "source": [
    "4 * 8 #整型数与整型数的乘法，结果是整型数"
   ]
  },
  {
   "cell_type": "code",
   "execution_count": 4,
   "id": "c2b35c8c",
   "metadata": {},
   "outputs": [
    {
     "data": {
      "text/plain": [
       "35.6"
      ]
     },
     "execution_count": 4,
     "metadata": {},
     "output_type": "execute_result"
    }
   ],
   "source": [
    "4 * 8.9 #整型数与浮点型数的乘法，结果是浮点型数"
   ]
  },
  {
   "cell_type": "code",
   "execution_count": 5,
   "id": "099e37f8",
   "metadata": {},
   "outputs": [
    {
     "data": {
      "text/plain": [
       "1.25"
      ]
     },
     "execution_count": 5,
     "metadata": {},
     "output_type": "execute_result"
    }
   ],
   "source": [
    "5 / 4 #整型数除法，无论是否能够整除，结果都是浮点型数"
   ]
  },
  {
   "cell_type": "code",
   "execution_count": 6,
   "id": "572c4691",
   "metadata": {},
   "outputs": [
    {
     "data": {
      "text/plain": [
       "2.0"
      ]
     },
     "execution_count": 6,
     "metadata": {},
     "output_type": "execute_result"
    }
   ],
   "source": [
    "6 / 3 #整型数除法，无论是否能够整除，结果都是浮点型数"
   ]
  },
  {
   "cell_type": "code",
   "execution_count": 7,
   "id": "8ab623a6",
   "metadata": {},
   "outputs": [
    {
     "data": {
      "text/plain": [
       "1"
      ]
     },
     "execution_count": 7,
     "metadata": {},
     "output_type": "execute_result"
    }
   ],
   "source": [
    "5 // 4 #除法结果取整"
   ]
  },
  {
   "cell_type": "code",
   "execution_count": 8,
   "id": "de95e741",
   "metadata": {},
   "outputs": [
    {
     "data": {
      "text/plain": [
       "0.8"
      ]
     },
     "execution_count": 8,
     "metadata": {},
     "output_type": "execute_result"
    }
   ],
   "source": [
    "4 / 5 "
   ]
  },
  {
   "cell_type": "code",
   "execution_count": 9,
   "id": "20b5f5cb",
   "metadata": {},
   "outputs": [
    {
     "data": {
      "text/plain": [
       "0"
      ]
     },
     "execution_count": 9,
     "metadata": {},
     "output_type": "execute_result"
    }
   ],
   "source": [
    "4 // 5 #除法结果取整"
   ]
  },
  {
   "cell_type": "code",
   "execution_count": 10,
   "id": "9dab7621",
   "metadata": {},
   "outputs": [
    {
     "data": {
      "text/plain": [
       "1"
      ]
     },
     "execution_count": 10,
     "metadata": {},
     "output_type": "execute_result"
    }
   ],
   "source": [
    "5 % 4 #余数运算"
   ]
  },
  {
   "cell_type": "code",
   "execution_count": 11,
   "id": "4a77ca12",
   "metadata": {},
   "outputs": [
    {
     "data": {
      "text/plain": [
       "8"
      ]
     },
     "execution_count": 11,
     "metadata": {},
     "output_type": "execute_result"
    }
   ],
   "source": [
    "2 ** 3 #幂运算"
   ]
  },
  {
   "cell_type": "code",
   "execution_count": 12,
   "id": "6846514b",
   "metadata": {},
   "outputs": [
    {
     "data": {
      "text/plain": [
       "True"
      ]
     },
     "execution_count": 12,
     "metadata": {},
     "output_type": "execute_result"
    }
   ],
   "source": [
    "10 < 20"
   ]
  },
  {
   "cell_type": "code",
   "execution_count": 13,
   "id": "2b77cf54",
   "metadata": {},
   "outputs": [
    {
     "data": {
      "text/plain": [
       "False"
      ]
     },
     "execution_count": 13,
     "metadata": {},
     "output_type": "execute_result"
    }
   ],
   "source": [
    "10 > 20"
   ]
  },
  {
   "cell_type": "code",
   "execution_count": 14,
   "id": "5eec9201",
   "metadata": {},
   "outputs": [
    {
     "data": {
      "text/plain": [
       "True"
      ]
     },
     "execution_count": 14,
     "metadata": {},
     "output_type": "execute_result"
    }
   ],
   "source": [
    "10 == 10.0 # 整型数和浮点数比大小"
   ]
  },
  {
   "cell_type": "code",
   "execution_count": 15,
   "id": "fa090e85",
   "metadata": {},
   "outputs": [
    {
     "data": {
      "text/plain": [
       "True"
      ]
     },
     "execution_count": 15,
     "metadata": {},
     "output_type": "execute_result"
    }
   ],
   "source": [
    "10 != 20"
   ]
  },
  {
   "cell_type": "code",
   "execution_count": 16,
   "id": "b69545de",
   "metadata": {},
   "outputs": [
    {
     "ename": "TypeError",
     "evalue": "'tuple' object does not support item assignment",
     "output_type": "error",
     "traceback": [
      "\u001b[0;31m---------------------------------------------------------------------------\u001b[0m",
      "\u001b[0;31mTypeError\u001b[0m                                 Traceback (most recent call last)",
      "\u001b[0;32m<ipython-input-16-64c6100d331f>\u001b[0m in \u001b[0;36m<module>\u001b[0;34m\u001b[0m\n\u001b[1;32m      5\u001b[0m \u001b[0mt\u001b[0m \u001b[0;34m=\u001b[0m \u001b[0;34m(\u001b[0m\u001b[0;36m1\u001b[0m\u001b[0;34m,\u001b[0m \u001b[0;34m'abc'\u001b[0m\u001b[0;34m,\u001b[0m \u001b[0;36m0.4\u001b[0m\u001b[0;34m)\u001b[0m\u001b[0;34m\u001b[0m\u001b[0;34m\u001b[0m\u001b[0m\n\u001b[1;32m      6\u001b[0m \u001b[0;34m\u001b[0m\u001b[0m\n\u001b[0;32m----> 7\u001b[0;31m \u001b[0mt\u001b[0m\u001b[0;34m[\u001b[0m\u001b[0;36m0\u001b[0m\u001b[0;34m]\u001b[0m \u001b[0;34m=\u001b[0m \u001b[0;36m2\u001b[0m \u001b[0;31m# 元组类型的内部元素不可以被修改\u001b[0m\u001b[0;34m\u001b[0m\u001b[0;34m\u001b[0m\u001b[0m\n\u001b[0m",
      "\u001b[0;31mTypeError\u001b[0m: 'tuple' object does not support item assignment"
     ]
    }
   ],
   "source": [
    "\"\"\"\n",
    "赋值运算\n",
    "\"\"\"\n",
    "\n",
    "t = (1, 'abc', 0.4)\n",
    "\n",
    "t[0] = 2 # 元组类型的内部元素不可以被修改"
   ]
  },
  {
   "cell_type": "code",
   "execution_count": 17,
   "id": "fbd880e2",
   "metadata": {},
   "outputs": [
    {
     "data": {
      "text/plain": [
       "3"
      ]
     },
     "execution_count": 17,
     "metadata": {},
     "output_type": "execute_result"
    }
   ],
   "source": [
    "l = [1, 'abc', 0.4] #将一个列表赋值给变量l。\n",
    "\n",
    "l[0] = 2 #试图改变列表l的第一个元素，并且重新赋值为2。\n",
    "\n",
    "l[0] += 1 #然后对更新后的列表的第一个元素进行递增1的操作，并重新赋值。\n",
    "\n",
    "l[0] #观察输出，应该为3。"
   ]
  },
  {
   "cell_type": "code",
   "execution_count": 18,
   "id": "8a6a2da7",
   "metadata": {},
   "outputs": [
    {
     "data": {
      "text/plain": [
       "True"
      ]
     },
     "execution_count": 18,
     "metadata": {},
     "output_type": "execute_result"
    }
   ],
   "source": [
    "'''\n",
    "逻辑运算\n",
    "'''\n",
    "\n",
    "True and True"
   ]
  },
  {
   "cell_type": "code",
   "execution_count": 19,
   "id": "2d697789",
   "metadata": {},
   "outputs": [
    {
     "data": {
      "text/plain": [
       "False"
      ]
     },
     "execution_count": 19,
     "metadata": {},
     "output_type": "execute_result"
    }
   ],
   "source": [
    "True and False #and作为逻辑运算时，只有一方为False，结果即为False。"
   ]
  },
  {
   "cell_type": "code",
   "execution_count": 20,
   "id": "a19551cd",
   "metadata": {},
   "outputs": [
    {
     "data": {
      "text/plain": [
       "True"
      ]
     },
     "execution_count": 20,
     "metadata": {},
     "output_type": "execute_result"
    }
   ],
   "source": [
    "True or False #or作为逻辑运算符时，只要一方为True，结果即为True。"
   ]
  },
  {
   "cell_type": "code",
   "execution_count": 21,
   "id": "aabc70b2",
   "metadata": {},
   "outputs": [
    {
     "data": {
      "text/plain": [
       "False"
      ]
     },
     "execution_count": 21,
     "metadata": {},
     "output_type": "execute_result"
    }
   ],
   "source": [
    "False or False"
   ]
  },
  {
   "cell_type": "code",
   "execution_count": 22,
   "id": "a0c2750f",
   "metadata": {},
   "outputs": [
    {
     "data": {
      "text/plain": [
       "False"
      ]
     },
     "execution_count": 22,
     "metadata": {},
     "output_type": "execute_result"
    }
   ],
   "source": [
    "not True #非（not）运算符用来反转布尔值。"
   ]
  },
  {
   "cell_type": "code",
   "execution_count": 23,
   "id": "45452af6",
   "metadata": {},
   "outputs": [],
   "source": [
    "'''成员运算'''\n",
    "l = [1, 'abc', 0.4]\n",
    "t = (1, 'abc', 0.4)\n",
    "s = {1, 'abc', 0.4}\n",
    "d = {1: '1', 'abc': 0.1, 0.4: 80}\n"
   ]
  },
  {
   "cell_type": "code",
   "execution_count": 24,
   "id": "d9f794a8",
   "metadata": {},
   "outputs": [
    {
     "data": {
      "text/plain": [
       "True"
      ]
     },
     "execution_count": 24,
     "metadata": {},
     "output_type": "execute_result"
    }
   ],
   "source": [
    "0.4 in l"
   ]
  },
  {
   "cell_type": "code",
   "execution_count": 25,
   "id": "f7d6e9e3",
   "metadata": {},
   "outputs": [
    {
     "data": {
      "text/plain": [
       "True"
      ]
     },
     "execution_count": 25,
     "metadata": {},
     "output_type": "execute_result"
    }
   ],
   "source": [
    "1 in t"
   ]
  },
  {
   "cell_type": "code",
   "execution_count": 26,
   "id": "8f28b2f0",
   "metadata": {},
   "outputs": [
    {
     "data": {
      "text/plain": [
       "True"
      ]
     },
     "execution_count": 26,
     "metadata": {},
     "output_type": "execute_result"
    }
   ],
   "source": [
    "'abc' in s"
   ]
  },
  {
   "cell_type": "code",
   "execution_count": 27,
   "id": "3ca3f3ac",
   "metadata": {},
   "outputs": [
    {
     "data": {
      "text/plain": [
       "True"
      ]
     },
     "execution_count": 27,
     "metadata": {},
     "output_type": "execute_result"
    }
   ],
   "source": [
    "0.4 in d"
   ]
  },
  {
   "cell_type": "code",
   "execution_count": 28,
   "id": "4a8f7b02",
   "metadata": {},
   "outputs": [
    {
     "data": {
      "text/plain": [
       "False"
      ]
     },
     "execution_count": 28,
     "metadata": {},
     "output_type": "execute_result"
    }
   ],
   "source": [
    "80 in d"
   ]
  }
 ],
 "metadata": {
  "kernelspec": {
   "display_name": "Python 3",
   "language": "python",
   "name": "python3"
  },
  "language_info": {
   "codemirror_mode": {
    "name": "ipython",
    "version": 3
   },
   "file_extension": ".py",
   "mimetype": "text/x-python",
   "name": "python",
   "nbconvert_exporter": "python",
   "pygments_lexer": "ipython3",
   "version": "3.8.11"
  }
 },
 "nbformat": 4,
 "nbformat_minor": 5
}
