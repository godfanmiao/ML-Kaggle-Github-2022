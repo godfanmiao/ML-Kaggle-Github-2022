{
 "cells": [
  {
   "cell_type": "code",
   "execution_count": 1,
   "id": "829f06a8",
   "metadata": {},
   "outputs": [
    {
     "data": {
      "text/plain": [
       "int"
      ]
     },
     "execution_count": 1,
     "metadata": {},
     "output_type": "execute_result"
    }
   ],
   "source": [
    "type(10) #整型数"
   ]
  },
  {
   "cell_type": "code",
   "execution_count": 2,
   "id": "492e8454",
   "metadata": {},
   "outputs": [
    {
     "data": {
      "text/plain": [
       "float"
      ]
     },
     "execution_count": 2,
     "metadata": {},
     "output_type": "execute_result"
    }
   ],
   "source": [
    "type(0.34) #浮点型数"
   ]
  },
  {
   "cell_type": "code",
   "execution_count": 3,
   "id": "e008933d",
   "metadata": {},
   "outputs": [
    {
     "data": {
      "text/plain": [
       "complex"
      ]
     },
     "execution_count": 3,
     "metadata": {},
     "output_type": "execute_result"
    }
   ],
   "source": [
    "type(1+3j) #复数"
   ]
  },
  {
   "cell_type": "code",
   "execution_count": 4,
   "id": "70643a20",
   "metadata": {},
   "outputs": [
    {
     "data": {
      "text/plain": [
       "bool"
      ]
     },
     "execution_count": 4,
     "metadata": {},
     "output_type": "execute_result"
    }
   ],
   "source": [
    "type(True) #布尔值：真"
   ]
  },
  {
   "cell_type": "code",
   "execution_count": 5,
   "id": "7476de24",
   "metadata": {},
   "outputs": [
    {
     "data": {
      "text/plain": [
       "bool"
      ]
     },
     "execution_count": 5,
     "metadata": {},
     "output_type": "execute_result"
    }
   ],
   "source": [
    "type(False) #布尔值：假"
   ]
  },
  {
   "cell_type": "code",
   "execution_count": 6,
   "id": "0ac86055",
   "metadata": {},
   "outputs": [
    {
     "data": {
      "text/plain": [
       "str"
      ]
     },
     "execution_count": 6,
     "metadata": {},
     "output_type": "execute_result"
    }
   ],
   "source": [
    "type('abc') #用单引号声明的字符串"
   ]
  },
  {
   "cell_type": "code",
   "execution_count": 7,
   "id": "56f99607",
   "metadata": {},
   "outputs": [
    {
     "data": {
      "text/plain": [
       "str"
      ]
     },
     "execution_count": 7,
     "metadata": {},
     "output_type": "execute_result"
    }
   ],
   "source": [
    "type(\"123\") #用双引号声明的字符串"
   ]
  },
  {
   "cell_type": "code",
   "execution_count": 8,
   "id": "b292cb62",
   "metadata": {},
   "outputs": [
    {
     "name": "stdout",
     "output_type": "stream",
     "text": [
      "(10, 0.34, True, 'abc')\n"
     ]
    }
   ],
   "source": [
    "x_tuple = (10, 0.34, True, 'abc') #将一个元组赋值给变量x_tuple\n",
    "print(x_tuple)"
   ]
  },
  {
   "cell_type": "code",
   "execution_count": 9,
   "id": "6f9710e8",
   "metadata": {},
   "outputs": [
    {
     "data": {
      "text/plain": [
       "tuple"
      ]
     },
     "execution_count": 9,
     "metadata": {},
     "output_type": "execute_result"
    }
   ],
   "source": [
    "type(x_tuple) #查验变量x_tuple的数据类型"
   ]
  },
  {
   "cell_type": "code",
   "execution_count": 10,
   "id": "a7ac3f05",
   "metadata": {},
   "outputs": [
    {
     "name": "stdout",
     "output_type": "stream",
     "text": [
      "[10, 0.34, True, 'abc']\n"
     ]
    }
   ],
   "source": [
    "x_list = [10, 0.34, True, 'abc'] #将一个列表赋值给变量x_list\n",
    "print(x_list)"
   ]
  },
  {
   "cell_type": "code",
   "execution_count": 11,
   "id": "9a4b6588",
   "metadata": {},
   "outputs": [
    {
     "data": {
      "text/plain": [
       "list"
      ]
     },
     "execution_count": 11,
     "metadata": {},
     "output_type": "execute_result"
    }
   ],
   "source": [
    "type(x_list) #查验变量x_list的数据类型"
   ]
  },
  {
   "cell_type": "code",
   "execution_count": 12,
   "id": "15ae33d2",
   "metadata": {},
   "outputs": [
    {
     "name": "stdout",
     "output_type": "stream",
     "text": [
      "{0.34, 10, 'b', 'a'}\n"
     ]
    }
   ],
   "source": [
    "x_set = {10, 0.34, 'a', 'a', 'b'} #将一个集合赋值给变量x_set\n",
    "print(x_set)"
   ]
  },
  {
   "cell_type": "code",
   "execution_count": 13,
   "id": "1a25572a",
   "metadata": {},
   "outputs": [
    {
     "data": {
      "text/plain": [
       "set"
      ]
     },
     "execution_count": 13,
     "metadata": {},
     "output_type": "execute_result"
    }
   ],
   "source": [
    "type(x_set) #查验变量x_set的数据类型"
   ]
  },
  {
   "cell_type": "code",
   "execution_count": 14,
   "id": "ce09d526",
   "metadata": {},
   "outputs": [
    {
     "name": "stdout",
     "output_type": "stream",
     "text": [
      "{1: 10, 2: 0.34, 'a': True, 'abc': 'abc'}\n"
     ]
    }
   ],
   "source": [
    "x_dict = {1:10, 2:0.34, 'a':True, 'abc':'abc'} #将一个字典赋值给变量x_dict\n",
    "print(x_dict)"
   ]
  },
  {
   "cell_type": "code",
   "execution_count": 15,
   "id": "9947a2b5",
   "metadata": {},
   "outputs": [
    {
     "data": {
      "text/plain": [
       "dict"
      ]
     },
     "execution_count": 15,
     "metadata": {},
     "output_type": "execute_result"
    }
   ],
   "source": [
    "type(x_dict) #查验变量x_dict的数据类型"
   ]
  },
  {
   "cell_type": "code",
   "execution_count": null,
   "id": "c7d8d698",
   "metadata": {},
   "outputs": [],
   "source": []
  }
 ],
 "metadata": {
  "kernelspec": {
   "display_name": "Python 3",
   "language": "python",
   "name": "python3"
  },
  "language_info": {
   "codemirror_mode": {
    "name": "ipython",
    "version": 3
   },
   "file_extension": ".py",
   "mimetype": "text/x-python",
   "name": "python",
   "nbconvert_exporter": "python",
   "pygments_lexer": "ipython3",
   "version": "3.8.11"
  }
 },
 "nbformat": 4,
 "nbformat_minor": 5
}
