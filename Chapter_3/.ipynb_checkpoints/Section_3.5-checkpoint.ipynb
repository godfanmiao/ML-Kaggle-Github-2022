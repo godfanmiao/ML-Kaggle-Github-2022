{
 "cells": [
  {
   "cell_type": "code",
   "execution_count": 1,
   "id": "89cbba8e",
   "metadata": {},
   "outputs": [
    {
     "name": "stdout",
     "output_type": "stream",
     "text": [
      "变量b是真。\n"
     ]
    }
   ],
   "source": [
    "b = True\n",
    "\n",
    "if b:\n",
    "    print(\"变量b是真。\")\n",
    "else:\n",
    "    print(\"变量b是假。\")"
   ]
  },
  {
   "cell_type": "code",
   "execution_count": 5,
   "id": "953c617c",
   "metadata": {},
   "outputs": [
    {
     "name": "stdout",
     "output_type": "stream",
     "text": [
      "变量a是假，同时变量b也是假，并且变量c是真；这条语句才会被执行。\n"
     ]
    }
   ],
   "source": [
    "a = False\n",
    "b = False\n",
    "c = True\n",
    "\n",
    "if a:\n",
    "    print(\"变量a是真。\")\n",
    "elif b:\n",
    "    print(\"变量a是假，并且变量b是真。\")\n",
    "elif c:\n",
    "    \"\"\"\n",
    "    如果执行到此处，说明a一定是False，同时b一定是False，c必须是真。\n",
    "    这是因为，分支语句依次执行真假判别；一旦某一分支判别为真，则该条语句被执行，并且整体分支语句就会结束；\n",
    "    根本没有机会执行后续其他的elif和else。\n",
    "    \"\"\"\n",
    "    print(\"变量a是假，同时变量b也是假，并且变量c是真；这条语句才会被执行。\")\n",
    "else:\n",
    "    print(\"所有变量都是假！\")\n"
   ]
  },
  {
   "cell_type": "code",
   "execution_count": 9,
   "id": "753fc65b",
   "metadata": {},
   "outputs": [
    {
     "name": "stdout",
     "output_type": "stream",
     "text": [
      "变量a是假。\n",
      "变量b是假，变量c是真；这条语句才会被执行。\n"
     ]
    }
   ],
   "source": [
    "\"\"\"\n",
    "换一种情况，两个if引导不同的两个分支语句，都会分别执行，互相不存在依赖关系。\n",
    "\"\"\"\n",
    "\n",
    "a = False\n",
    "b = False\n",
    "c = True\n",
    "\n",
    "if not a:\n",
    "    print(\"变量a是假。\")\n",
    "\n",
    "if b:\n",
    "    print(\"变量b是真。\")\n",
    "elif c:\n",
    "    print(\"变量b是假，变量c是真；这条语句才会被执行。\")\n",
    "else:\n",
    "    print(\"变量b和c都是假！\")\n"
   ]
  },
  {
   "cell_type": "code",
   "execution_count": 4,
   "id": "cb829137",
   "metadata": {},
   "outputs": [
    {
     "name": "stdout",
     "output_type": "stream",
     "text": [
      "1 1\n",
      "abc 0.1\n",
      "0.4 80\n"
     ]
    }
   ],
   "source": [
    "\"\"\"\n",
    "循环语句\n",
    "\"\"\"\n",
    "d = {1: '1', 'abc': 0.1, 0.4: 80}\n",
    "\n",
    "for k in d:\n",
    "    print (k, d[k])"
   ]
  },
  {
   "cell_type": "code",
   "execution_count": 9,
   "id": "6ebf5254",
   "metadata": {},
   "outputs": [
    {
     "name": "stdout",
     "output_type": "stream",
     "text": [
      "1\n",
      "2\n",
      "3\n",
      "4\n",
      "5\n"
     ]
    }
   ],
   "source": [
    "l = [1,2,3,4,5]\n",
    "i = 0\n",
    "while i < len(l):\n",
    "    print(l[i])\n",
    "    i += 1"
   ]
  },
  {
   "cell_type": "code",
   "execution_count": null,
   "id": "6732021e",
   "metadata": {},
   "outputs": [],
   "source": []
  }
 ],
 "metadata": {
  "kernelspec": {
   "display_name": "Python 3",
   "language": "python",
   "name": "python3"
  },
  "language_info": {
   "codemirror_mode": {
    "name": "ipython",
    "version": 3
   },
   "file_extension": ".py",
   "mimetype": "text/x-python",
   "name": "python",
   "nbconvert_exporter": "python",
   "pygments_lexer": "ipython3",
   "version": "3.8.11"
  }
 },
 "nbformat": 4,
 "nbformat_minor": 5
}
