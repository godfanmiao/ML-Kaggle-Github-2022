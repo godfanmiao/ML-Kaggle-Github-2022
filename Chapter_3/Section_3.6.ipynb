{
 "cells": [
  {
   "cell_type": "code",
   "execution_count": 6,
   "id": "596fb4f8",
   "metadata": {},
   "outputs": [],
   "source": [
    "def foo(x):\n",
    "    \"\"\"\n",
    "    这是一个计算二次方的函数\n",
    "    \"\"\"\n",
    "    return x ** 2"
   ]
  },
  {
   "cell_type": "code",
   "execution_count": 10,
   "id": "efdeda3f",
   "metadata": {},
   "outputs": [],
   "source": [
    "??foo \n",
    "#详细查验函数foo，并且能够看到其源代码"
   ]
  },
  {
   "cell_type": "code",
   "execution_count": 11,
   "id": "fba81487",
   "metadata": {},
   "outputs": [],
   "source": [
    "?foo \n",
    "#查验函数foo的声明，和描述信息"
   ]
  },
  {
   "cell_type": "code",
   "execution_count": 5,
   "id": "41678883",
   "metadata": {},
   "outputs": [
    {
     "name": "stdout",
     "output_type": "stream",
     "text": [
      "64.0\n"
     ]
    }
   ],
   "source": [
    "if __name__ == '__main__':\n",
    "    print(foo(8.0))"
   ]
  },
  {
   "cell_type": "code",
   "execution_count": null,
   "id": "b1cecbaa",
   "metadata": {},
   "outputs": [],
   "source": []
  }
 ],
 "metadata": {
  "kernelspec": {
   "display_name": "Python 3",
   "language": "python",
   "name": "python3"
  },
  "language_info": {
   "codemirror_mode": {
    "name": "ipython",
    "version": 3
   },
   "file_extension": ".py",
   "mimetype": "text/x-python",
   "name": "python",
   "nbconvert_exporter": "python",
   "pygments_lexer": "ipython3",
   "version": "3.8.11"
  }
 },
 "nbformat": 4,
 "nbformat_minor": 5
}
