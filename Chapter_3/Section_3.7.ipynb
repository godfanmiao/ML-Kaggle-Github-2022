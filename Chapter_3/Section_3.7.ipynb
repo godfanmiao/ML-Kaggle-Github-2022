{
 "cells": [
  {
   "cell_type": "code",
   "execution_count": 1,
   "id": "3718a77e",
   "metadata": {},
   "outputs": [],
   "source": [
    "class Student:\n",
    "    count = 0\n",
    "    __tax_discount_rate = 0.1\n",
    "    \n",
    "    \n",
    "    def __init__(self, name, age, sex, fee, is_married):\n",
    "        self.name = name\n",
    "        self.age = age\n",
    "        self.sex = sex\n",
    "        \n",
    "        self.__fee = fee\n",
    "        self.__is_married = is_married\n",
    "        \n",
    "        Student.count += 1\n",
    "    \n",
    "    \n",
    "    def display_student(self):\n",
    "        print (\"姓名: %s, 年龄: %d, 性别: %s\" %(self.name, self.age, self.sex))\n",
    "        \n",
    "    \n",
    "    def display_fee(self):\n",
    "        print (\"%s的学费为%f\" %(self.name, self.__fee))\n",
    "        \n",
    "        \n",
    "    def __get_is_single(self):\n",
    "        if self.__is_married:\n",
    "            return False\n",
    "        else:\n",
    "            return True\n",
    "        \n",
    "        \n",
    "    def get_tax_return(self):\n",
    "        if self.__get_is_single():\n",
    "            return self.__fee * Student.__tax_discount_rate\n",
    "        else:\n",
    "            return 0.0\n",
    "       \n",
    "    \n",
    "    def display_tax_return(self):\n",
    "        print(\"%s的退税额度为:%f\" %(self.name, self.get_tax_return()))\n",
    "        "
   ]
  },
  {
   "cell_type": "code",
   "execution_count": 2,
   "id": "d2565d2b",
   "metadata": {},
   "outputs": [
    {
     "name": "stdout",
     "output_type": "stream",
     "text": [
      "姓名: 范淼, 年龄: 29, 性别: 男\n",
      "姓名: 刘晓龙, 年龄: 34, 性别: 男\n",
      "目前学生总数为2人\n",
      "目前学生总数为4人\n",
      "范淼的退税额度为:500.000000\n",
      "孙华枭的退税额度为:0.000000\n"
     ]
    }
   ],
   "source": [
    "if __name__ == '__main__':\n",
    "    \n",
    "    student_1 = Student(\"范淼\", 29, \"男\", 5000.0, False)\n",
    "    student_2 = Student(\"刘晓龙\", 34, \"男\", 5500.0, False)\n",
    "    \n",
    "    student_1.display_student()\n",
    "    student_2.display_student()\n",
    "    \n",
    "    print(\"目前学生总数为%d人\" % Student.count)\n",
    "    \n",
    "    student_3 = Student(\"孙华枭\", 28, \"男\", 5600, True)\n",
    "    student_4 = Student(\"陈蓓\", 27, \"女\", 4500, True)\n",
    "    \n",
    "    print(\"目前学生总数为%d人\" % Student.count)\n",
    "    \n",
    "    student_1.display_tax_return()\n",
    "    student_3.display_tax_return()\n"
   ]
  },
  {
   "cell_type": "code",
   "execution_count": null,
   "id": "a0b5b4dc",
   "metadata": {},
   "outputs": [],
   "source": []
  }
 ],
 "metadata": {
  "kernelspec": {
   "display_name": "Python 3",
   "language": "python",
   "name": "python3"
  },
  "language_info": {
   "codemirror_mode": {
    "name": "ipython",
    "version": 3
   },
   "file_extension": ".py",
   "mimetype": "text/x-python",
   "name": "python",
   "nbconvert_exporter": "python",
   "pygments_lexer": "ipython3",
   "version": "3.8.11"
  }
 },
 "nbformat": 4,
 "nbformat_minor": 5
}
