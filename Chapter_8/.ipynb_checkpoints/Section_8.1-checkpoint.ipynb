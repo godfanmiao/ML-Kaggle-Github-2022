{
 "cells": [
  {
   "cell_type": "code",
   "execution_count": 1,
   "id": "b1bbcf30",
   "metadata": {},
   "outputs": [],
   "source": [
    "'''\n",
    "数据分析\n",
    "'''\n",
    "import pandas as pd\n",
    "\n",
    "\n",
    "#读取训练和测试数据。\n",
    "train_data = pd.read_csv('../datasets/titanic/train.csv')\n",
    "test_data = pd.read_csv('../datasets/titanic/test.csv')"
   ]
  },
  {
   "cell_type": "code",
   "execution_count": 2,
   "id": "98c07c67",
   "metadata": {
    "scrolled": true
   },
   "outputs": [
    {
     "name": "stdout",
     "output_type": "stream",
     "text": [
      "<class 'pandas.core.frame.DataFrame'>\n",
      "RangeIndex: 891 entries, 0 to 890\n",
      "Data columns (total 12 columns):\n",
      " #   Column       Non-Null Count  Dtype  \n",
      "---  ------       --------------  -----  \n",
      " 0   PassengerId  891 non-null    int64  \n",
      " 1   Survived     891 non-null    int64  \n",
      " 2   Pclass       891 non-null    int64  \n",
      " 3   Name         891 non-null    object \n",
      " 4   Sex          891 non-null    object \n",
      " 5   Age          714 non-null    float64\n",
      " 6   SibSp        891 non-null    int64  \n",
      " 7   Parch        891 non-null    int64  \n",
      " 8   Ticket       891 non-null    object \n",
      " 9   Fare         891 non-null    float64\n",
      " 10  Cabin        204 non-null    object \n",
      " 11  Embarked     889 non-null    object \n",
      "dtypes: float64(2), int64(5), object(5)\n",
      "memory usage: 83.7+ KB\n"
     ]
    }
   ],
   "source": [
    "train_data.info()"
   ]
  },
  {
   "cell_type": "code",
   "execution_count": 3,
   "id": "7c3e25bf",
   "metadata": {},
   "outputs": [
    {
     "name": "stdout",
     "output_type": "stream",
     "text": [
      "<class 'pandas.core.frame.DataFrame'>\n",
      "RangeIndex: 418 entries, 0 to 417\n",
      "Data columns (total 11 columns):\n",
      " #   Column       Non-Null Count  Dtype  \n",
      "---  ------       --------------  -----  \n",
      " 0   PassengerId  418 non-null    int64  \n",
      " 1   Pclass       418 non-null    int64  \n",
      " 2   Name         418 non-null    object \n",
      " 3   Sex          418 non-null    object \n",
      " 4   Age          332 non-null    float64\n",
      " 5   SibSp        418 non-null    int64  \n",
      " 6   Parch        418 non-null    int64  \n",
      " 7   Ticket       418 non-null    object \n",
      " 8   Fare         417 non-null    float64\n",
      " 9   Cabin        91 non-null     object \n",
      " 10  Embarked     418 non-null    object \n",
      "dtypes: float64(2), int64(4), object(5)\n",
      "memory usage: 36.0+ KB\n"
     ]
    }
   ],
   "source": [
    "test_data.info()"
   ]
  },
  {
   "cell_type": "code",
   "execution_count": 4,
   "id": "6251cde7",
   "metadata": {},
   "outputs": [],
   "source": [
    "'''\n",
    "数据预处理\n",
    "'''\n",
    "def data_preprocess(df):\n",
    "    '''\n",
    "    丢弃Cabin、Ticket、Name特征；填充Age、Fare、Embarked特征。\n",
    "    '''\n",
    "    df = df.drop(['Cabin', 'Ticket', 'Name'], axis=1)\n",
    "    df = df.fillna({'Age': df['Age'].median(), 'Fare': df['Fare'].mean(), 'Embarked': df['Embarked'].value_counts().idxmax()})\n",
    "    return df\n",
    "\n",
    "\n",
    "train_data = data_preprocess(train_data)\n",
    "test_data = data_preprocess(test_data)"
   ]
  },
  {
   "cell_type": "code",
   "execution_count": 5,
   "id": "6ca9d9b0",
   "metadata": {},
   "outputs": [],
   "source": [
    "X_train = train_data.drop(['Survived', 'PassengerId'], axis=1)\n",
    "y_train = train_data['Survived']\n",
    "X_test = test_data.drop(['PassengerId'], axis=1)"
   ]
  },
  {
   "cell_type": "code",
   "execution_count": 6,
   "id": "ff481f40",
   "metadata": {},
   "outputs": [],
   "source": [
    "#获得训练和测试集中的数值型特征。\n",
    "num_X_train = X_train[['Age', 'Fare', 'SibSp', 'Parch']].values\n",
    "num_X_test = X_test[['Age', 'Fare', 'SibSp', 'Parch']].values"
   ]
  },
  {
   "cell_type": "code",
   "execution_count": 7,
   "id": "58983460",
   "metadata": {},
   "outputs": [],
   "source": [
    "from sklearn.preprocessing import OneHotEncoder\n",
    "\n",
    "ohe = OneHotEncoder()\n",
    "\n",
    "#获得训练和测试集中的类别型特征，并转换为独热编码。\n",
    "cate_X_train = ohe.fit_transform(X_train[['Pclass', 'Sex', 'Embarked']]).todense()\n",
    "cate_X_test = ohe.transform(X_test[['Pclass', 'Sex', 'Embarked']]).todense()"
   ]
  },
  {
   "cell_type": "code",
   "execution_count": 8,
   "id": "e970b167",
   "metadata": {},
   "outputs": [],
   "source": [
    "import numpy as np\n",
    "\n",
    "\n",
    "#将数值特征与类别特征的独热编码进行拼接。\n",
    "X_train = np.concatenate([num_X_train, cate_X_train], axis=1)\n",
    "X_test = np.concatenate([num_X_test, cate_X_test], axis=1)"
   ]
  },
  {
   "cell_type": "code",
   "execution_count": 9,
   "id": "734a1434",
   "metadata": {},
   "outputs": [
    {
     "name": "stdout",
     "output_type": "stream",
     "text": [
      "最优超参数设定为：{'criterion': 'gini', 'n_estimators': 50}\n",
      "交叉验证得到的最佳准确率为：0.815969\n"
     ]
    }
   ],
   "source": [
    "'''\n",
    "采用随机森林分类器，并且交叉验证、超参数寻优。\n",
    "'''\n",
    "from sklearn.ensemble import RandomForestClassifier\n",
    "from sklearn.model_selection import GridSearchCV\n",
    "\n",
    "\n",
    "parameters = {'n_estimators':[10, 50, 100], 'criterion':['gini', 'entropy']}\n",
    "\n",
    "rfc = RandomForestClassifier()\n",
    "\n",
    "clf = GridSearchCV(rfc, parameters, scoring='accuracy', n_jobs=4)\n",
    "\n",
    "clf.fit(X_train, y_train)\n",
    "\n",
    "print('最优超参数设定为：%s' %clf.best_params_)\n",
    "\n",
    "print('交叉验证得到的最佳准确率为：%f' %clf.best_score_)"
   ]
  },
  {
   "cell_type": "code",
   "execution_count": 10,
   "id": "58150224",
   "metadata": {},
   "outputs": [],
   "source": [
    "'''\n",
    "使用最优的模型，依据测试数据的特征进行类别预测。\n",
    "'''\n",
    "y_predict = clf.predict(X_test)\n",
    "\n",
    "submission = pd.DataFrame({'PassengerId': test_data['PassengerId'], 'Survived': y_predict})\n",
    "\n",
    "submission.to_csv('../Kaggle_submissions/titanic_submission.csv', index=False)"
   ]
  }
 ],
 "metadata": {
  "kernelspec": {
   "display_name": "Python 3",
   "language": "python",
   "name": "python3"
  },
  "language_info": {
   "codemirror_mode": {
    "name": "ipython",
    "version": 3
   },
   "file_extension": ".py",
   "mimetype": "text/x-python",
   "name": "python",
   "nbconvert_exporter": "python",
   "pygments_lexer": "ipython3",
   "version": "3.8.11"
  }
 },
 "nbformat": 4,
 "nbformat_minor": 5
}
