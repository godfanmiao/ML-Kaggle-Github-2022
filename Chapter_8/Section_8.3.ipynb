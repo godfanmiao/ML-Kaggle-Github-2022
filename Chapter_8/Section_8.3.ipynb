{
 "cells": [
  {
   "cell_type": "code",
   "execution_count": 1,
   "id": "23a7ec9d",
   "metadata": {},
   "outputs": [],
   "source": [
    "'''\n",
    "数据分析\n",
    "'''\n",
    "import pandas as pd\n",
    "\n",
    "\n",
    "#读取训练和测试数据。\n",
    "train_data = pd.read_csv('../Datasets/twitter/train.csv')\n",
    "test_data = pd.read_csv('../Datasets/twitter/test.csv')"
   ]
  },
  {
   "cell_type": "code",
   "execution_count": 2,
   "id": "c57e931c",
   "metadata": {},
   "outputs": [
    {
     "name": "stdout",
     "output_type": "stream",
     "text": [
      "<class 'pandas.core.frame.DataFrame'>\n",
      "RangeIndex: 7613 entries, 0 to 7612\n",
      "Data columns (total 5 columns):\n",
      " #   Column    Non-Null Count  Dtype \n",
      "---  ------    --------------  ----- \n",
      " 0   id        7613 non-null   int64 \n",
      " 1   keyword   7552 non-null   object\n",
      " 2   location  5080 non-null   object\n",
      " 3   text      7613 non-null   object\n",
      " 4   target    7613 non-null   int64 \n",
      "dtypes: int64(2), object(3)\n",
      "memory usage: 297.5+ KB\n"
     ]
    }
   ],
   "source": [
    "train_data.info()"
   ]
  },
  {
   "cell_type": "code",
   "execution_count": 3,
   "id": "bed6b190",
   "metadata": {},
   "outputs": [
    {
     "name": "stdout",
     "output_type": "stream",
     "text": [
      "<class 'pandas.core.frame.DataFrame'>\n",
      "RangeIndex: 3263 entries, 0 to 3262\n",
      "Data columns (total 4 columns):\n",
      " #   Column    Non-Null Count  Dtype \n",
      "---  ------    --------------  ----- \n",
      " 0   id        3263 non-null   int64 \n",
      " 1   keyword   3237 non-null   object\n",
      " 2   location  2158 non-null   object\n",
      " 3   text      3263 non-null   object\n",
      "dtypes: int64(1), object(3)\n",
      "memory usage: 102.1+ KB\n"
     ]
    }
   ],
   "source": [
    "test_data.info()"
   ]
  },
  {
   "cell_type": "code",
   "execution_count": 4,
   "id": "6ee06c56",
   "metadata": {},
   "outputs": [],
   "source": [
    "'''\n",
    "数据预处理\n",
    "'''\n",
    "y_train = train_data['target']"
   ]
  },
  {
   "cell_type": "code",
   "execution_count": 5,
   "id": "8301af52",
   "metadata": {},
   "outputs": [],
   "source": [
    "#填充未知特征。\n",
    "train_data = train_data.fillna('UNK')\n",
    "test_data = test_data.fillna('UNK')"
   ]
  },
  {
   "cell_type": "code",
   "execution_count": 6,
   "id": "03c04ad8",
   "metadata": {},
   "outputs": [],
   "source": [
    "from sklearn.preprocessing import OneHotEncoder\n",
    "\n",
    "\n",
    "#对类别型特征进行编码。\n",
    "ohe = OneHotEncoder(handle_unknown='ignore')\n",
    "\n",
    "loc_X_train = ohe.fit_transform(train_data[['location']].values).todense()\n",
    "loc_X_test = ohe.transform(test_data[['location']].values).todense()"
   ]
  },
  {
   "cell_type": "code",
   "execution_count": 7,
   "id": "5144bf36",
   "metadata": {},
   "outputs": [],
   "source": [
    "from sklearn.feature_extraction.text import CountVectorizer\n",
    "\n",
    "\n",
    "#对文本型特征进行编码。\n",
    "vec = CountVectorizer(lowercase=True, stop_words='english')\n",
    "\n",
    "kw_X_train = vec.fit_transform(train_data['keyword'].values).todense()\n",
    "kw_X_test = vec.transform(test_data['keyword'].values).todense()\n",
    "\n",
    "text_X_train = vec.fit_transform(train_data['text'].values).todense()\n",
    "text_X_test = vec.transform(test_data['text'].values).todense()"
   ]
  },
  {
   "cell_type": "code",
   "execution_count": 8,
   "id": "b3cf638e",
   "metadata": {},
   "outputs": [],
   "source": [
    "import numpy as np\n",
    "\n",
    "\n",
    "#将文本特征与类别特征的编码进行拼接。\n",
    "X_train = np.concatenate([loc_X_train, kw_X_train, text_X_train], axis=1)\n",
    "X_test = np.concatenate([loc_X_test, kw_X_test, text_X_test], axis=1)"
   ]
  },
  {
   "cell_type": "code",
   "execution_count": 9,
   "id": "cccf4589",
   "metadata": {},
   "outputs": [
    {
     "name": "stdout",
     "output_type": "stream",
     "text": [
      "最优超参数设定为：{'alpha': 1.0}\n",
      "交叉验证得到的最佳准确率为：0.620542\n"
     ]
    }
   ],
   "source": [
    "'''\n",
    "采用朴素贝叶斯分类器，并且交叉验证、超参数寻优。\n",
    "'''\n",
    "from sklearn.naive_bayes import MultinomialNB\n",
    "from sklearn.model_selection import GridSearchCV\n",
    "\n",
    "\n",
    "parameters = {'alpha': [0.5, 0.8, 1.0]}\n",
    "\n",
    "mnb = MultinomialNB()\n",
    "\n",
    "clf = GridSearchCV(mnb, parameters, scoring='f1', n_jobs=4)\n",
    "\n",
    "clf.fit(X_train, y_train)\n",
    "\n",
    "print('最优超参数设定为：%s' %clf.best_params_)\n",
    "print('交叉验证得到的最佳准确率为：%f' %clf.best_score_)"
   ]
  },
  {
   "cell_type": "code",
   "execution_count": 10,
   "id": "bc41e857",
   "metadata": {},
   "outputs": [],
   "source": [
    "'''\n",
    "使用最优的模型，依据测试数据的特征进行类别预测。\n",
    "'''\n",
    "y_predict = clf.predict(X_test)\n",
    "\n",
    "submission = pd.DataFrame({'id': test_data['id'], 'target': y_predict})\n",
    "submission.to_csv('../Kaggle_submissions/twitter_submission.csv', index=False)"
   ]
  },
  {
   "cell_type": "code",
   "execution_count": null,
   "id": "c076210c",
   "metadata": {},
   "outputs": [],
   "source": []
  }
 ],
 "metadata": {
  "kernelspec": {
   "display_name": "Python 3 (ipykernel)",
   "language": "python",
   "name": "python3"
  },
  "language_info": {
   "codemirror_mode": {
    "name": "ipython",
    "version": 3
   },
   "file_extension": ".py",
   "mimetype": "text/x-python",
   "name": "python",
   "nbconvert_exporter": "python",
   "pygments_lexer": "ipython3",
   "version": "3.8.11"
  }
 },
 "nbformat": 4,
 "nbformat_minor": 5
}
