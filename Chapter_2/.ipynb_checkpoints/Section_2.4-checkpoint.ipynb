{
 "cells": [
  {
   "cell_type": "code",
   "execution_count": 1,
   "id": "3ecd81fe",
   "metadata": {},
   "outputs": [
    {
     "name": "stdout",
     "output_type": "stream",
     "text": [
      "感谢您购阅《Python机器学习及实践：从零开始通往Kaggle竞赛之路(2022年度版)》!\n"
     ]
    }
   ],
   "source": [
    "print('感谢您购阅《Python机器学习及实践：从零开始通往Kaggle竞赛之路(2022年度版)》!')"
   ]
  },
  {
   "cell_type": "code",
   "execution_count": null,
   "id": "e1d1f8f4",
   "metadata": {},
   "outputs": [],
   "source": []
  }
 ],
 "metadata": {
  "kernelspec": {
   "display_name": "Python 3",
   "language": "python",
   "name": "python3"
  },
  "language_info": {
   "codemirror_mode": {
    "name": "ipython",
    "version": 3
   },
   "file_extension": ".py",
   "mimetype": "text/x-python",
   "name": "python",
   "nbconvert_exporter": "python",
   "pygments_lexer": "ipython3",
   "version": "3.8.11"
  }
 },
 "nbformat": 4,
 "nbformat_minor": 5
}
